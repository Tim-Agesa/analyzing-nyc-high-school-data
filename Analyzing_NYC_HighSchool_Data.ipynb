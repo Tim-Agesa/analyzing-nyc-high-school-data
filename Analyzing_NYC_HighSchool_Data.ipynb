{
 "cells": [
  {
   "cell_type": "markdown",
   "metadata": {},
   "source": [
    "# <U><h1><center> ANALYZING NYC HIGH SCHOOL DATA</center></h1></U>"
   ]
  },
  {
   "cell_type": "markdown",
   "metadata": {},
   "source": [
    "###  <U><h1><center> Work Flow of This Project</center></h1></U>\n",
    "                           \n",
    "##                                         <center> A. Purpose of The Project </center>\n",
    "<br>\n",
    "\n",
    "##                                  <center> B. Cleaning and Understanding the Data.</center>\n",
    "<br>\n",
    "\n",
    "##                                   <center>C. Combining The Data. </center>\n",
    "                            \n",
    "<br>\n",
    "\n",
    "##                                   <center> D. Analyzing and Visualizing The Data. </center>\n"
   ]
  },
  {
   "cell_type": "markdown",
   "metadata": {},
   "source": [
    "# <h1><center> A. Purpose of The Project.</center></h1>"
   ]
  },
  {
   "cell_type": "markdown",
   "metadata": {},
   "source": [
    "### Introdution:\n",
    "\n",
    "One of the most controversial issues in the U.S. educational system is the efficacy of standardized tests and whether they're unfair to certain groups. Given our prior knowledge of this topic, investigating the correlations between __SAT scores__ and __demographics__ might be an interesting angle to take. We could correlate __SAT scores__ with factors like __race, gender, income, and more__.\n",
    "\n",
    "<br>\n",
    "\n",
    "[__The SAT__](https://en.wikipedia.org/wiki/SAT), or __Scholastic Aptitude Test__, is an exam that U.S. high school students take before applying to college. \n",
    "\n",
    "<br>\n",
    "\n",
    "\n",
    "Colleges take the test scores into account when deciding who to admit, so it's important to perform well.\n",
    "\n",
    "<br>\n",
    "\n",
    "The test consists of three sections, each of which has 800 possible points. The combined score is out of 2,400 possible points (while this number has changed a few times, the dataset for our project is based on 2,400 total points). Organizations often rank high schools by their __average SAT scores__. The scores are also considered a measure of overall school district quality.\n",
    "\n",
    "<br>\n",
    "\n",
    "New York City makes its data on high school __SAT scores__ available online, as well as the __demographics__ for each high school.\n",
    "\n",
    "\n",
    "<br>\n",
    "\n",
    "\n",
    "### Further Research:\n",
    "\n",
    "After research we learnt the following:\n",
    "\n",
    "\n",
    "- Only high school students take the __SAT__, so we'll want to focus on high schools.\n",
    "\n",
    "<br>\n",
    "\n",
    "- New York City is made up of __five boroughs__, which are essentially distinct regions.\n",
    "\n",
    "<br>\n",
    "\n",
    "- New York City schools fall within several different school districts, each of which can contains dozens of schools.\n",
    "\n",
    "<br>\n",
    "\n",
    "- Our datasets include several different types of schools. We'll need to clean them so that we can focus on high schools only.\n",
    "\n",
    "<br>\n",
    "\n",
    "- Each school in New York City has a unique code called a __DBN__ or district __borough number__.\n",
    "\n",
    "<br>\n",
    "\n",
    "- Aggregating data by district allows us to use the district mapping data to plot district-by-district differences.\n",
    "\n",
    "<br>\n",
    "\n",
    "\n",
    "### Purpose of Project:\n",
    "\n",
    "We will study the correlations between various columns and __SAT scores__. In particular, we want to figure out the following:\n",
    "\n",
    "- __How does SAT_score correlate with factors like race, gender, average class size, safety_score amongst other interesting columns.__"
   ]
  },
  {
   "cell_type": "markdown",
   "metadata": {},
   "source": [
    "# <h1><center> B. Cleaning and Understanding the Data.</center></h1>"
   ]
  },
  {
   "cell_type": "markdown",
   "metadata": {},
   "source": [
    "# <u> Links To All The Individual Data sets used and their Data Dictionaries. </u>"
   ]
  },
  {
   "cell_type": "markdown",
   "metadata": {},
   "source": [
    "Here are the links to all of the datasets we'll be using:\n",
    "\n",
    "[SAT scores by school](https://data.cityofnewyork.us/Education/SAT-Results/f9bf-2cp4) - SAT scores for each high school in New York City\n",
    "\n",
    "\n",
    "[School attendance](https://data.cityofnewyork.us/Education/School-Attendance-and-Enrollment-Statistics-by-Dis/7z8d-msnt) - Attendance information for each school in New York City\n",
    "\n",
    "\n",
    "[Class size](https://data.cityofnewyork.us/Education/2010-2011-Class-Size-School-level-detail/urz7-pzb3) - Information on class size for each school\n",
    "\n",
    "\n",
    "[AP test results](https://data.cityofnewyork.us/Education/AP-College-Board-2010-School-Level-Results/itfs-ms3e) - Advanced Placement (AP) exam results for each high school (passing an optional AP exam in a particular subject can earn a student college credit in that subject)\n",
    "\n",
    "\n",
    "[Graduation outcomes](https://data.cityofnewyork.us/Education/Graduation-Outcomes-Classes-Of-2005-2010-School-Le/vh2h-md7a) - The percentage of students who graduated, and other outcome information\n",
    "\n",
    "\n",
    "[Demographics](https://data.cityofnewyork.us/Education/School-Demographics-and-Accountability-Snapshot-20/ihfw-zy9j) - Demographic information for each school\n",
    "\n",
    "\n",
    "[School survey](https://data.cityofnewyork.us/Education/NYC-School-Survey-2011/mnz3-dyi8) - Surveys of parents, teachers, and students at each school"
   ]
  },
  {
   "cell_type": "markdown",
   "metadata": {},
   "source": [
    "# <u> All Libraries Used In This Project. </u>"
   ]
  },
  {
   "cell_type": "code",
   "execution_count": 1,
   "metadata": {},
   "outputs": [],
   "source": [
    "# Import the libraries required for this project\n",
    "import pandas as pd\n",
    "import numpy as np\n",
    "import matplotlib.pyplot as plt\n",
    "import re"
   ]
  },
  {
   "cell_type": "markdown",
   "metadata": {},
   "source": [
    "# <u>Reading in The Data. </u>"
   ]
  },
  {
   "cell_type": "code",
   "execution_count": 2,
   "metadata": {},
   "outputs": [],
   "source": [
    "data_files = [\n",
    "    \"ap_2010.csv\",\n",
    "    \"class_size.csv\",\n",
    "    \"demographics.csv\",\n",
    "    \"graduation.csv\",\n",
    "    \"hs_directory.csv\",\n",
    "    \"sat_results.csv\"\n",
    "]\n",
    "data = {}\n",
    "for f in data_files:\n",
    "    d = pd.read_csv(\"schools/{0}\".format(f))\n",
    "    key_name = f.replace(\".csv\", \"\")\n",
    "    data[key_name] = d"
   ]
  },
  {
   "cell_type": "markdown",
   "metadata": {},
   "source": [
    "I am mainly interested in is the SAT dataset, which corresponds to the dictionary key __sat_results__. This dataset contains the SAT scores for each high school in New York City. We eventually want to correlate selected information from this dataset with information in the other datasets."
   ]
  },
  {
   "cell_type": "markdown",
   "metadata": {},
   "source": [
    "# <u>Explore sat_results. </u>"
   ]
  },
  {
   "cell_type": "code",
   "execution_count": 3,
   "metadata": {},
   "outputs": [
    {
     "name": "stdout",
     "output_type": "stream",
     "text": [
      "      DBN                                    SCHOOL NAME  \\\n",
      "0  01M292  HENRY STREET SCHOOL FOR INTERNATIONAL STUDIES   \n",
      "1  01M448            UNIVERSITY NEIGHBORHOOD HIGH SCHOOL   \n",
      "2  01M450                     EAST SIDE COMMUNITY SCHOOL   \n",
      "3  01M458                      FORSYTH SATELLITE ACADEMY   \n",
      "4  01M509                        MARTA VALLE HIGH SCHOOL   \n",
      "\n",
      "  Num of SAT Test Takers SAT Critical Reading Avg. Score SAT Math Avg. Score  \\\n",
      "0                     29                             355                 404   \n",
      "1                     91                             383                 423   \n",
      "2                     70                             377                 402   \n",
      "3                      7                             414                 401   \n",
      "4                     44                             390                 433   \n",
      "\n",
      "  SAT Writing Avg. Score  \n",
      "0                    363  \n",
      "1                    366  \n",
      "2                    370  \n",
      "3                    359  \n",
      "4                    384  \n"
     ]
    }
   ],
   "source": [
    "# Print the first five rows of the sat_results dataframe\n",
    "print(data[\"sat_results\"].head())"
   ]
  },
  {
   "cell_type": "markdown",
   "metadata": {},
   "source": [
    "## _Key Observations:_"
   ]
  },
  {
   "cell_type": "markdown",
   "metadata": {},
   "source": [
    "- The __DBN__ appears to be a __unique ID__ for each school.\n",
    "\n",
    "\n",
    "- We can tell from the first few rows of names that we only have data about __high schools__.\n",
    "\n",
    "\n",
    "- There's only a single row for each high school, so each DBN is unique in the SAT data.\n",
    "\n",
    "\n",
    "- We may eventually want to combine the three columns that contain SAT scores -- __SAT Critical Reading Avg. Score__, __SAT Math Avg. Score__, and __SAT Writing Avg. Score__ -- into a single column to make the scores easier to analyze."
   ]
  },
  {
   "cell_type": "markdown",
   "metadata": {},
   "source": [
    " # <u>Explore the Other Datasets. </u>"
   ]
  },
  {
   "cell_type": "code",
   "execution_count": 4,
   "metadata": {},
   "outputs": [
    {
     "name": "stdout",
     "output_type": "stream",
     "text": [
      "      DBN                             SchoolName AP Test Takers   \\\n",
      "0  01M448           UNIVERSITY NEIGHBORHOOD H.S.              39   \n",
      "1  01M450                 EAST SIDE COMMUNITY HS              19   \n",
      "2  01M515                    LOWER EASTSIDE PREP              24   \n",
      "3  01M539         NEW EXPLORATIONS SCI,TECH,MATH             255   \n",
      "4  02M296  High School of Hospitality Management               s   \n",
      "\n",
      "  Total Exams Taken Number of Exams with scores 3 4 or 5  \n",
      "0                49                                   10  \n",
      "1                21                                    s  \n",
      "2                26                                   24  \n",
      "3               377                                  191  \n",
      "4                 s                                    s  \n",
      "   CSD BOROUGH SCHOOL CODE                SCHOOL NAME GRADE  PROGRAM TYPE  \\\n",
      "0    1       M        M015  P.S. 015 Roberto Clemente     0K       GEN ED   \n",
      "1    1       M        M015  P.S. 015 Roberto Clemente     0K          CTT   \n",
      "2    1       M        M015  P.S. 015 Roberto Clemente     01       GEN ED   \n",
      "3    1       M        M015  P.S. 015 Roberto Clemente     01          CTT   \n",
      "4    1       M        M015  P.S. 015 Roberto Clemente     02       GEN ED   \n",
      "\n",
      "  CORE SUBJECT (MS CORE and 9-12 ONLY) CORE COURSE (MS CORE and 9-12 ONLY)  \\\n",
      "0                                    -                                   -   \n",
      "1                                    -                                   -   \n",
      "2                                    -                                   -   \n",
      "3                                    -                                   -   \n",
      "4                                    -                                   -   \n",
      "\n",
      "  SERVICE CATEGORY(K-9* ONLY)  NUMBER OF STUDENTS / SEATS FILLED  \\\n",
      "0                           -                               19.0   \n",
      "1                           -                               21.0   \n",
      "2                           -                               17.0   \n",
      "3                           -                               17.0   \n",
      "4                           -                               15.0   \n",
      "\n",
      "   NUMBER OF SECTIONS  AVERAGE CLASS SIZE  SIZE OF SMALLEST CLASS  \\\n",
      "0                 1.0                19.0                    19.0   \n",
      "1                 1.0                21.0                    21.0   \n",
      "2                 1.0                17.0                    17.0   \n",
      "3                 1.0                17.0                    17.0   \n",
      "4                 1.0                15.0                    15.0   \n",
      "\n",
      "   SIZE OF LARGEST CLASS DATA SOURCE  SCHOOLWIDE PUPIL-TEACHER RATIO  \n",
      "0                   19.0         ATS                             NaN  \n",
      "1                   21.0         ATS                             NaN  \n",
      "2                   17.0         ATS                             NaN  \n",
      "3                   17.0         ATS                             NaN  \n",
      "4                   15.0         ATS                             NaN  \n",
      "      DBN                       Name  schoolyear fl_percent  frl_percent  \\\n",
      "0  01M015  P.S. 015 ROBERTO CLEMENTE    20052006       89.4          NaN   \n",
      "1  01M015  P.S. 015 ROBERTO CLEMENTE    20062007       89.4          NaN   \n",
      "2  01M015  P.S. 015 ROBERTO CLEMENTE    20072008       89.4          NaN   \n",
      "3  01M015  P.S. 015 ROBERTO CLEMENTE    20082009       89.4          NaN   \n",
      "4  01M015  P.S. 015 ROBERTO CLEMENTE    20092010                    96.5   \n",
      "\n",
      "   total_enrollment prek   k grade1 grade2  ... black_num black_per  \\\n",
      "0               281   15  36     40     33  ...        74      26.3   \n",
      "1               243   15  29     39     38  ...        68      28.0   \n",
      "2               261   18  43     39     36  ...        77      29.5   \n",
      "3               252   17  37     44     32  ...        75      29.8   \n",
      "4               208   16  40     28     32  ...        67      32.2   \n",
      "\n",
      "  hispanic_num hispanic_per white_num white_per male_num male_per female_num  \\\n",
      "0          189         67.3         5       1.8    158.0     56.2      123.0   \n",
      "1          153         63.0         4       1.6    140.0     57.6      103.0   \n",
      "2          157         60.2         7       2.7    143.0     54.8      118.0   \n",
      "3          149         59.1         7       2.8    149.0     59.1      103.0   \n",
      "4          118         56.7         6       2.9    124.0     59.6       84.0   \n",
      "\n",
      "  female_per  \n",
      "0       43.8  \n",
      "1       42.4  \n",
      "2       45.2  \n",
      "3       40.9  \n",
      "4       40.4  \n",
      "\n",
      "[5 rows x 38 columns]\n",
      "    Demographic     DBN                            School Name    Cohort  \\\n",
      "0  Total Cohort  01M292  HENRY STREET SCHOOL FOR INTERNATIONAL      2003   \n",
      "1  Total Cohort  01M292  HENRY STREET SCHOOL FOR INTERNATIONAL      2004   \n",
      "2  Total Cohort  01M292  HENRY STREET SCHOOL FOR INTERNATIONAL      2005   \n",
      "3  Total Cohort  01M292  HENRY STREET SCHOOL FOR INTERNATIONAL      2006   \n",
      "4  Total Cohort  01M292  HENRY STREET SCHOOL FOR INTERNATIONAL  2006 Aug   \n",
      "\n",
      "   Total Cohort Total Grads - n Total Grads - % of cohort Total Regents - n  \\\n",
      "0             5               s                         s                 s   \n",
      "1            55              37                     67.3%                17   \n",
      "2            64              43                     67.2%                27   \n",
      "3            78              43                     55.1%                36   \n",
      "4            78              44                     56.4%                37   \n",
      "\n",
      "  Total Regents - % of cohort Total Regents - % of grads  ...  \\\n",
      "0                           s                          s  ...   \n",
      "1                       30.9%                      45.9%  ...   \n",
      "2                       42.2%                      62.8%  ...   \n",
      "3                       46.2%                      83.7%  ...   \n",
      "4                       47.4%                      84.1%  ...   \n",
      "\n",
      "  Regents w/o Advanced - n Regents w/o Advanced - % of cohort  \\\n",
      "0                        s                                  s   \n",
      "1                       17                              30.9%   \n",
      "2                       27                              42.2%   \n",
      "3                       36                              46.2%   \n",
      "4                       37                              47.4%   \n",
      "\n",
      "  Regents w/o Advanced - % of grads Local - n Local - % of cohort  \\\n",
      "0                                 s         s                   s   \n",
      "1                             45.9%        20               36.4%   \n",
      "2                             62.8%        16                 25%   \n",
      "3                             83.7%         7                  9%   \n",
      "4                             84.1%         7                  9%   \n",
      "\n",
      "    Local - % of grads Still Enrolled - n Still Enrolled - % of cohort  \\\n",
      "0                    s                  s                            s   \n",
      "1                54.1%                 15                        27.3%   \n",
      "2  37.200000000000003%                  9                        14.1%   \n",
      "3                16.3%                 16                        20.5%   \n",
      "4                15.9%                 15                        19.2%   \n",
      "\n",
      "  Dropped Out - n Dropped Out - % of cohort  \n",
      "0               s                         s  \n",
      "1               3                      5.5%  \n",
      "2               9                     14.1%  \n",
      "3              11                     14.1%  \n",
      "4              11                     14.1%  \n",
      "\n",
      "[5 rows x 23 columns]\n",
      "      dbn                                        school_name       boro  \\\n",
      "0  17K548                Brooklyn School for Music & Theatre   Brooklyn   \n",
      "1  09X543                   High School for Violin and Dance      Bronx   \n",
      "2  09X327        Comprehensive Model School Project M.S. 327      Bronx   \n",
      "3  02M280     Manhattan Early College School for Advertising  Manhattan   \n",
      "4  28Q680  Queens Gateway to Health Sciences Secondary Sc...     Queens   \n",
      "\n",
      "  building_code    phone_number    fax_number grade_span_min  grade_span_max  \\\n",
      "0          K440    718-230-6250  718-230-6262              9              12   \n",
      "1          X400    718-842-0687  718-589-9849              9              12   \n",
      "2          X240    718-294-8111  718-294-8109              6              12   \n",
      "3          M520  718-935-3477             NaN              9              10   \n",
      "4          Q695    718-969-3155  718-969-3552              6              12   \n",
      "\n",
      "  expgrade_span_min  expgrade_span_max  ...  \\\n",
      "0               NaN                NaN  ...   \n",
      "1               NaN                NaN  ...   \n",
      "2               NaN                NaN  ...   \n",
      "3                 9               14.0  ...   \n",
      "4               NaN                NaN  ...   \n",
      "\n",
      "                                          priority02  \\\n",
      "0                    Then to New York City residents   \n",
      "1  Then to New York City residents who attend an ...   \n",
      "2  Then to Bronx students or residents who attend...   \n",
      "3  Then to New York City residents who attend an ...   \n",
      "4  Then to Districts 28 and 29 students or residents   \n",
      "\n",
      "                                          priority03  \\\n",
      "0                                                NaN   \n",
      "1                Then to Bronx students or residents   \n",
      "2  Then to New York City residents who attend an ...   \n",
      "3          Then to Manhattan students or residents     \n",
      "4               Then to Queens students or residents   \n",
      "\n",
      "                            priority04                       priority05  \\\n",
      "0                                  NaN                              NaN   \n",
      "1      Then to New York City residents                              NaN   \n",
      "2  Then to Bronx students or residents  Then to New York City residents   \n",
      "3      Then to New York City residents                              NaN   \n",
      "4      Then to New York City residents                              NaN   \n",
      "\n",
      "  priority06  priority07 priority08  priority09 priority10  \\\n",
      "0        NaN         NaN        NaN         NaN        NaN   \n",
      "1        NaN         NaN        NaN         NaN        NaN   \n",
      "2        NaN         NaN        NaN         NaN        NaN   \n",
      "3        NaN         NaN        NaN         NaN        NaN   \n",
      "4        NaN         NaN        NaN         NaN        NaN   \n",
      "\n",
      "                                          Location 1  \n",
      "0  883 Classon Avenue\\nBrooklyn, NY 11225\\n(40.67...  \n",
      "1  1110 Boston Road\\nBronx, NY 10456\\n(40.8276026...  \n",
      "2  1501 Jerome Avenue\\nBronx, NY 10452\\n(40.84241...  \n",
      "3  411 Pearl Street\\nNew York, NY 10038\\n(40.7106...  \n",
      "4  160-20 Goethals Avenue\\nJamaica, NY 11432\\n(40...  \n",
      "\n",
      "[5 rows x 58 columns]\n",
      "      DBN                                    SCHOOL NAME  \\\n",
      "0  01M292  HENRY STREET SCHOOL FOR INTERNATIONAL STUDIES   \n",
      "1  01M448            UNIVERSITY NEIGHBORHOOD HIGH SCHOOL   \n",
      "2  01M450                     EAST SIDE COMMUNITY SCHOOL   \n",
      "3  01M458                      FORSYTH SATELLITE ACADEMY   \n",
      "4  01M509                        MARTA VALLE HIGH SCHOOL   \n",
      "\n",
      "  Num of SAT Test Takers SAT Critical Reading Avg. Score SAT Math Avg. Score  \\\n",
      "0                     29                             355                 404   \n",
      "1                     91                             383                 423   \n",
      "2                     70                             377                 402   \n",
      "3                      7                             414                 401   \n",
      "4                     44                             390                 433   \n",
      "\n",
      "  SAT Writing Avg. Score  \n",
      "0                    363  \n",
      "1                    366  \n",
      "2                    370  \n",
      "3                    359  \n",
      "4                    384  \n"
     ]
    }
   ],
   "source": [
    "# Let's explore the other datasets to see if we can gain any insight into how to combine them.\n",
    "for k in data:\n",
    "    print(data[k].head())"
   ]
  },
  {
   "cell_type": "markdown",
   "metadata": {},
   "source": [
    "## _Key Observations:_"
   ]
  },
  {
   "cell_type": "markdown",
   "metadata": {},
   "source": [
    "We can make some observations based on the first few rows of each one:\n",
    "\n",
    "- Each dataset appears to either have a __DBN__ column or the information we need to create one. That means we can use a __DBN__ column to combine the datasets. First we'll pinpoint matching rows from different datasets by looking for identical __DBNs__, then group all of their columns together in a single dataset.\n",
    "\n",
    "\n",
    "- Some fields look interesting for mapping -- particularly __Location 1__, which contains coordinates inside a larger string.\n",
    "\n",
    "\n",
    "- Some of the datasets appear to contain multiple rows for each school (because the rows have duplicate DBN values). That means we’ll have to do some preprocessing to ensure that each __DBN__ is unique within each dataset. If we don't do this, we'll run into problems when we combine the datasets, because we might be merging two rows in one data set with one row in another dataset."
   ]
  },
  {
   "cell_type": "markdown",
   "metadata": {},
   "source": [
    "# <u>Reading in the Text Files. </u>"
   ]
  },
  {
   "cell_type": "markdown",
   "metadata": {},
   "source": [
    "Before we proceed with the merge, we should make sure we have all of the data we want to unify. We mentioned the survey data earlier __(survey_all.txt and survey_d75.txt)__, but we didn't read those files in because they're in a slightly more complex format."
   ]
  },
  {
   "cell_type": "code",
   "execution_count": 5,
   "metadata": {},
   "outputs": [
    {
     "name": "stdout",
     "output_type": "stream",
     "text": [
      "      dbn    bn                      schoolname  d75 studentssurveyed  \\\n",
      "0  01M015  M015       P.S. 015 Roberto Clemente    0               No   \n",
      "1  01M019  M019             P.S. 019 Asher Levy    0               No   \n",
      "2  01M020  M020            P.S. 020 Anna Silver    0               No   \n",
      "3  01M034  M034  P.S. 034 Franklin D. Roosevelt    0              Yes   \n",
      "4  01M063  M063       P.S. 063 William McKinley    0               No   \n",
      "\n",
      "   highschool                  schooltype  rr_s  rr_t  rr_p  ...  s_q14_2  \\\n",
      "0         0.0           Elementary School   NaN    88    60  ...      NaN   \n",
      "1         0.0           Elementary School   NaN   100    60  ...      NaN   \n",
      "2         0.0           Elementary School   NaN    88    73  ...      NaN   \n",
      "3         0.0  Elementary / Middle School  89.0    73    50  ...      NaN   \n",
      "4         0.0           Elementary School   NaN   100    60  ...      NaN   \n",
      "\n",
      "   s_q14_3  s_q14_4  s_q14_5  s_q14_6  s_q14_7  s_q14_8  s_q14_9  s_q14_10  \\\n",
      "0      NaN      NaN      NaN      NaN      NaN      NaN      NaN       NaN   \n",
      "1      NaN      NaN      NaN      NaN      NaN      NaN      NaN       NaN   \n",
      "2      NaN      NaN      NaN      NaN      NaN      NaN      NaN       NaN   \n",
      "3      NaN      NaN      NaN      NaN      NaN      NaN      NaN       NaN   \n",
      "4      NaN      NaN      NaN      NaN      NaN      NaN      NaN       NaN   \n",
      "\n",
      "   s_q14_11  \n",
      "0       NaN  \n",
      "1       NaN  \n",
      "2       NaN  \n",
      "3       NaN  \n",
      "4       NaN  \n",
      "\n",
      "[5 rows x 2773 columns]\n"
     ]
    }
   ],
   "source": [
    "# Read in the survey_all text data.\n",
    "all_survey = pd.read_csv(\"schools/survey_all.txt\", delimiter=\"\\t\", encoding='windows-1252')\n",
    "\n",
    "# Read in the survey_d75 text data.\n",
    "d75_survey = pd.read_csv(\"schools/survey_d75.txt\", delimiter=\"\\t\", encoding='windows-1252')\n",
    "\n",
    "# Combine d75_survey and all_survey into a single dataframe.\n",
    "survey = pd.concat([all_survey, d75_survey], axis=0)\n",
    "\n",
    "# Display the first five rows of survey\n",
    "print(survey.head())"
   ]
  },
  {
   "cell_type": "markdown",
   "metadata": {},
   "source": [
    "## _Key Observations:_"
   ]
  },
  {
   "cell_type": "markdown",
   "metadata": {},
   "source": [
    "There are two immediate facts that we can see in the data:\n",
    "\n",
    "- There are over __2000 columns__, nearly all of which we don't need. We'll have to filter the data to remove the unnecessary ones. Working with fewer columns makes it easier to print the dataframe out and find correlations within it.\n",
    "\n",
    "\n",
    "- The survey data has a __dbn__ column that we'll want to convert to uppercase __(DBN)__. The conversion makes the column name consistent with the other data sets."
   ]
  },
  {
   "cell_type": "markdown",
   "metadata": {},
   "source": [
    "# <u>Filter Columns Out.</u>"
   ]
  },
  {
   "cell_type": "markdown",
   "metadata": {},
   "source": [
    "First, we'll need to filter the columns to remove the ones we don't need. There's a data dictionary at the [original data download location](https://data.cityofnewyork.us/Education/2011-NYC-School-Survey/mnz3-dyi8). The dictionary tells us what each column represents. Based on our knowledge of the problem and the analysis we're trying to do, we can use the data dictionary to determine which columns to use."
   ]
  },
  {
   "cell_type": "code",
   "execution_count": 6,
   "metadata": {},
   "outputs": [
    {
     "name": "stderr",
     "output_type": "stream",
     "text": [
      "C:\\Anaconda\\lib\\site-packages\\ipykernel_launcher.py:2: PerformanceWarning: DataFrame is highly fragmented.  This is usually the result of calling `frame.insert` many times, which has poor performance.  Consider joining all columns at once using pd.concat(axis=1) instead.  To get a de-fragmented frame, use `newframe = frame.copy()`\n",
      "  \n"
     ]
    },
    {
     "name": "stdout",
     "output_type": "stream",
     "text": [
      "      DBN  rr_s  rr_t  rr_p    N_s   N_t    N_p  saf_p_11  com_p_11  eng_p_11  \\\n",
      "0  01M015   NaN    88    60    NaN  22.0   90.0       8.5       7.6       7.5   \n",
      "1  01M019   NaN   100    60    NaN  34.0  161.0       8.4       7.6       7.6   \n",
      "2  01M020   NaN    88    73    NaN  42.0  367.0       8.9       8.3       8.3   \n",
      "3  01M034  89.0    73    50  145.0  29.0  151.0       8.8       8.2       8.0   \n",
      "4  01M063   NaN   100    60    NaN  23.0   90.0       8.7       7.9       8.1   \n",
      "\n",
      "   ...  eng_t_11  aca_t_11  saf_s_11  com_s_11  eng_s_11  aca_s_11  \\\n",
      "0  ...       7.6       7.9       NaN       NaN       NaN       NaN   \n",
      "1  ...       8.9       9.1       NaN       NaN       NaN       NaN   \n",
      "2  ...       6.8       7.5       NaN       NaN       NaN       NaN   \n",
      "3  ...       6.8       7.8       6.2       5.9       6.5       7.4   \n",
      "4  ...       7.8       8.1       NaN       NaN       NaN       NaN   \n",
      "\n",
      "   saf_tot_11  com_tot_11  eng_tot_11  aca_tot_11  \n",
      "0         8.0         7.7         7.5         7.9  \n",
      "1         8.5         8.1         8.2         8.4  \n",
      "2         8.2         7.3         7.5         8.0  \n",
      "3         7.3         6.7         7.1         7.9  \n",
      "4         8.5         7.6         7.9         8.0  \n",
      "\n",
      "[5 rows x 23 columns]\n"
     ]
    }
   ],
   "source": [
    "# Copy the data from the dbn column of survey into a new column in survey called DBN.\n",
    "survey[\"DBN\"] = survey[\"dbn\"]\n",
    "\n",
    "# Columns that are relevant based on the data dictionary\n",
    "survey_fields = [\n",
    "    \"DBN\", \n",
    "    \"rr_s\", \n",
    "    \"rr_t\", \n",
    "    \"rr_p\", \n",
    "    \"N_s\", \n",
    "    \"N_t\", \n",
    "    \"N_p\", \n",
    "    \"saf_p_11\", \n",
    "    \"com_p_11\", \n",
    "    \"eng_p_11\", \n",
    "    \"aca_p_11\", \n",
    "    \"saf_t_11\", \n",
    "    \"com_t_11\", \n",
    "    \"eng_t_11\", \n",
    "    \"aca_t_11\", \n",
    "    \"saf_s_11\", \n",
    "    \"com_s_11\", \n",
    "    \"eng_s_11\", \n",
    "    \"aca_s_11\", \n",
    "    \"saf_tot_11\", \n",
    "    \"com_tot_11\", \n",
    "    \"eng_tot_11\", \n",
    "    \"aca_tot_11\",\n",
    "]\n",
    "\n",
    "# Filter out columns\n",
    "survey = survey.loc[:,survey_fields]\n",
    "data[\"survey\"] = survey\n",
    "\n",
    "# Display data to confirm changes\n",
    "print(survey.head())"
   ]
  },
  {
   "cell_type": "code",
   "execution_count": 7,
   "metadata": {},
   "outputs": [],
   "source": [
    "df1 = survey.copy()"
   ]
  },
  {
   "cell_type": "code",
   "execution_count": 8,
   "metadata": {},
   "outputs": [
    {
     "name": "stdout",
     "output_type": "stream",
     "text": [
      "      DBN  rr_s  rr_t  rr_p    N_s   N_t    N_p  saf_p_11  com_p_11  eng_p_11  \\\n",
      "0  01M015   NaN    88    60    NaN  22.0   90.0       8.5       7.6       7.5   \n",
      "1  01M019   NaN   100    60    NaN  34.0  161.0       8.4       7.6       7.6   \n",
      "2  01M020   NaN    88    73    NaN  42.0  367.0       8.9       8.3       8.3   \n",
      "3  01M034  89.0    73    50  145.0  29.0  151.0       8.8       8.2       8.0   \n",
      "4  01M063   NaN   100    60    NaN  23.0   90.0       8.7       7.9       8.1   \n",
      "\n",
      "   ...  eng_t_11  aca_t_11  saf_s_11  com_s_11  eng_s_11  aca_s_11  \\\n",
      "0  ...       7.6       7.9       NaN       NaN       NaN       NaN   \n",
      "1  ...       8.9       9.1       NaN       NaN       NaN       NaN   \n",
      "2  ...       6.8       7.5       NaN       NaN       NaN       NaN   \n",
      "3  ...       6.8       7.8       6.2       5.9       6.5       7.4   \n",
      "4  ...       7.8       8.1       NaN       NaN       NaN       NaN   \n",
      "\n",
      "   saf_tot_11  com_tot_11  eng_tot_11  aca_tot_11  \n",
      "0         8.0         7.7         7.5         7.9  \n",
      "1         8.5         8.1         8.2         8.4  \n",
      "2         8.2         7.3         7.5         8.0  \n",
      "3         7.3         6.7         7.1         7.9  \n",
      "4         8.5         7.6         7.9         8.0  \n",
      "\n",
      "[5 rows x 23 columns]\n"
     ]
    }
   ],
   "source": [
    "print(df1.head())"
   ]
  },
  {
   "cell_type": "markdown",
   "metadata": {},
   "source": [
    "## _Key Observations:_"
   ]
  },
  {
   "cell_type": "markdown",
   "metadata": {},
   "source": [
    "When we explored all of the datasets, we noticed that some of them, like __class_size__ and __hs_directory__, don't have a __DBN__ column. __hs_directory__ does have a __dbn__ column, though, so we can just rename it."
   ]
  },
  {
   "cell_type": "markdown",
   "metadata": {},
   "source": [
    "# <u>Check out 'class_size' data set.</u>"
   ]
  },
  {
   "cell_type": "markdown",
   "metadata": {},
   "source": [
    "However, __class_size__ doesn't appear to have the __dbn__column at all. Here are the first few rows of the data set:"
   ]
  },
  {
   "cell_type": "code",
   "execution_count": 9,
   "metadata": {},
   "outputs": [
    {
     "data": {
      "text/html": [
       "<div>\n",
       "<style scoped>\n",
       "    .dataframe tbody tr th:only-of-type {\n",
       "        vertical-align: middle;\n",
       "    }\n",
       "\n",
       "    .dataframe tbody tr th {\n",
       "        vertical-align: top;\n",
       "    }\n",
       "\n",
       "    .dataframe thead th {\n",
       "        text-align: right;\n",
       "    }\n",
       "</style>\n",
       "<table border=\"1\" class=\"dataframe\">\n",
       "  <thead>\n",
       "    <tr style=\"text-align: right;\">\n",
       "      <th></th>\n",
       "      <th>CSD</th>\n",
       "      <th>BOROUGH</th>\n",
       "      <th>SCHOOL CODE</th>\n",
       "      <th>SCHOOL NAME</th>\n",
       "      <th>GRADE</th>\n",
       "      <th>PROGRAM TYPE</th>\n",
       "      <th>CORE SUBJECT (MS CORE and 9-12 ONLY)</th>\n",
       "      <th>CORE COURSE (MS CORE and 9-12 ONLY)</th>\n",
       "      <th>SERVICE CATEGORY(K-9* ONLY)</th>\n",
       "      <th>NUMBER OF STUDENTS / SEATS FILLED</th>\n",
       "      <th>NUMBER OF SECTIONS</th>\n",
       "      <th>AVERAGE CLASS SIZE</th>\n",
       "      <th>SIZE OF SMALLEST CLASS</th>\n",
       "      <th>SIZE OF LARGEST CLASS</th>\n",
       "      <th>DATA SOURCE</th>\n",
       "      <th>SCHOOLWIDE PUPIL-TEACHER RATIO</th>\n",
       "    </tr>\n",
       "  </thead>\n",
       "  <tbody>\n",
       "    <tr>\n",
       "      <th>0</th>\n",
       "      <td>1</td>\n",
       "      <td>M</td>\n",
       "      <td>M015</td>\n",
       "      <td>P.S. 015 Roberto Clemente</td>\n",
       "      <td>0K</td>\n",
       "      <td>GEN ED</td>\n",
       "      <td>-</td>\n",
       "      <td>-</td>\n",
       "      <td>-</td>\n",
       "      <td>19.0</td>\n",
       "      <td>1.0</td>\n",
       "      <td>19.0</td>\n",
       "      <td>19.0</td>\n",
       "      <td>19.0</td>\n",
       "      <td>ATS</td>\n",
       "      <td>NaN</td>\n",
       "    </tr>\n",
       "    <tr>\n",
       "      <th>1</th>\n",
       "      <td>1</td>\n",
       "      <td>M</td>\n",
       "      <td>M015</td>\n",
       "      <td>P.S. 015 Roberto Clemente</td>\n",
       "      <td>0K</td>\n",
       "      <td>CTT</td>\n",
       "      <td>-</td>\n",
       "      <td>-</td>\n",
       "      <td>-</td>\n",
       "      <td>21.0</td>\n",
       "      <td>1.0</td>\n",
       "      <td>21.0</td>\n",
       "      <td>21.0</td>\n",
       "      <td>21.0</td>\n",
       "      <td>ATS</td>\n",
       "      <td>NaN</td>\n",
       "    </tr>\n",
       "    <tr>\n",
       "      <th>2</th>\n",
       "      <td>1</td>\n",
       "      <td>M</td>\n",
       "      <td>M015</td>\n",
       "      <td>P.S. 015 Roberto Clemente</td>\n",
       "      <td>01</td>\n",
       "      <td>GEN ED</td>\n",
       "      <td>-</td>\n",
       "      <td>-</td>\n",
       "      <td>-</td>\n",
       "      <td>17.0</td>\n",
       "      <td>1.0</td>\n",
       "      <td>17.0</td>\n",
       "      <td>17.0</td>\n",
       "      <td>17.0</td>\n",
       "      <td>ATS</td>\n",
       "      <td>NaN</td>\n",
       "    </tr>\n",
       "  </tbody>\n",
       "</table>\n",
       "</div>"
      ],
      "text/plain": [
       "   CSD BOROUGH SCHOOL CODE                SCHOOL NAME GRADE  PROGRAM TYPE  \\\n",
       "0    1       M        M015  P.S. 015 Roberto Clemente     0K       GEN ED   \n",
       "1    1       M        M015  P.S. 015 Roberto Clemente     0K          CTT   \n",
       "2    1       M        M015  P.S. 015 Roberto Clemente     01       GEN ED   \n",
       "\n",
       "  CORE SUBJECT (MS CORE and 9-12 ONLY) CORE COURSE (MS CORE and 9-12 ONLY)  \\\n",
       "0                                    -                                   -   \n",
       "1                                    -                                   -   \n",
       "2                                    -                                   -   \n",
       "\n",
       "  SERVICE CATEGORY(K-9* ONLY)  NUMBER OF STUDENTS / SEATS FILLED  \\\n",
       "0                           -                               19.0   \n",
       "1                           -                               21.0   \n",
       "2                           -                               17.0   \n",
       "\n",
       "   NUMBER OF SECTIONS  AVERAGE CLASS SIZE  SIZE OF SMALLEST CLASS  \\\n",
       "0                 1.0                19.0                    19.0   \n",
       "1                 1.0                21.0                    21.0   \n",
       "2                 1.0                17.0                    17.0   \n",
       "\n",
       "   SIZE OF LARGEST CLASS DATA SOURCE  SCHOOLWIDE PUPIL-TEACHER RATIO  \n",
       "0                   19.0         ATS                             NaN  \n",
       "1                   21.0         ATS                             NaN  \n",
       "2                   17.0         ATS                             NaN  "
      ]
     },
     "execution_count": 9,
     "metadata": {},
     "output_type": "execute_result"
    }
   ],
   "source": [
    "# First few rows of class_size data set\n",
    "class_size = pd.read_csv(\"schools\\\\class_size.csv\")\n",
    "class_size.head(3)"
   ]
  },
  {
   "cell_type": "markdown",
   "metadata": {},
   "source": [
    "Below are the first few rows of the __sat_results data__, which does have a __DBN column__:"
   ]
  },
  {
   "cell_type": "code",
   "execution_count": 10,
   "metadata": {},
   "outputs": [
    {
     "data": {
      "text/html": [
       "<div>\n",
       "<style scoped>\n",
       "    .dataframe tbody tr th:only-of-type {\n",
       "        vertical-align: middle;\n",
       "    }\n",
       "\n",
       "    .dataframe tbody tr th {\n",
       "        vertical-align: top;\n",
       "    }\n",
       "\n",
       "    .dataframe thead th {\n",
       "        text-align: right;\n",
       "    }\n",
       "</style>\n",
       "<table border=\"1\" class=\"dataframe\">\n",
       "  <thead>\n",
       "    <tr style=\"text-align: right;\">\n",
       "      <th></th>\n",
       "      <th>DBN</th>\n",
       "      <th>SCHOOL NAME</th>\n",
       "      <th>Num of SAT Test Takers</th>\n",
       "      <th>SAT Critical Reading Avg. Score</th>\n",
       "      <th>SAT Math Avg. Score</th>\n",
       "      <th>SAT Writing Avg. Score</th>\n",
       "    </tr>\n",
       "  </thead>\n",
       "  <tbody>\n",
       "    <tr>\n",
       "      <th>0</th>\n",
       "      <td>01M292</td>\n",
       "      <td>HENRY STREET SCHOOL FOR INTERNATIONAL STUDIES</td>\n",
       "      <td>29</td>\n",
       "      <td>355</td>\n",
       "      <td>404</td>\n",
       "      <td>363</td>\n",
       "    </tr>\n",
       "    <tr>\n",
       "      <th>1</th>\n",
       "      <td>01M448</td>\n",
       "      <td>UNIVERSITY NEIGHBORHOOD HIGH SCHOOL</td>\n",
       "      <td>91</td>\n",
       "      <td>383</td>\n",
       "      <td>423</td>\n",
       "      <td>366</td>\n",
       "    </tr>\n",
       "    <tr>\n",
       "      <th>2</th>\n",
       "      <td>01M450</td>\n",
       "      <td>EAST SIDE COMMUNITY SCHOOL</td>\n",
       "      <td>70</td>\n",
       "      <td>377</td>\n",
       "      <td>402</td>\n",
       "      <td>370</td>\n",
       "    </tr>\n",
       "  </tbody>\n",
       "</table>\n",
       "</div>"
      ],
      "text/plain": [
       "      DBN                                    SCHOOL NAME  \\\n",
       "0  01M292  HENRY STREET SCHOOL FOR INTERNATIONAL STUDIES   \n",
       "1  01M448            UNIVERSITY NEIGHBORHOOD HIGH SCHOOL   \n",
       "2  01M450                     EAST SIDE COMMUNITY SCHOOL   \n",
       "\n",
       "  Num of SAT Test Takers SAT Critical Reading Avg. Score SAT Math Avg. Score  \\\n",
       "0                     29                             355                 404   \n",
       "1                     91                             383                 423   \n",
       "2                     70                             377                 402   \n",
       "\n",
       "  SAT Writing Avg. Score  \n",
       "0                    363  \n",
       "1                    366  \n",
       "2                    370  "
      ]
     },
     "execution_count": 10,
     "metadata": {},
     "output_type": "execute_result"
    }
   ],
   "source": [
    "# First few rows of sat_results data \n",
    "sat_results = pd.read_csv(\"schools\\\\sat_results.csv\")\n",
    "sat_results.head(3)"
   ]
  },
  {
   "cell_type": "markdown",
   "metadata": {},
   "source": [
    "From looking at these rows, we can tell that the __DBN__ in the __sat_results__ data is just a combination of the __CSD__ and __SCHOOL CODE__ columns in the __class_size__ data. The main difference is that the __DBN__ is padded, so that the __CSD__ portion of it always consists of two digits. That means we'll need to add a leading __0__ to the __CSD__ if the __CSD__ is less than two digits long. Here's a diagram illustrating what we need to do:"
   ]
  },
  {
   "cell_type": "markdown",
   "metadata": {},
   "source": [
    "|CSD || Padded CSD |\n",
    "|----||------------|\n",
    "|1   || 01         |\n",
    "|----||------------|\n",
    "|19  || 19         |\n",
    "|----||------------|\n",
    "|2   || 02         | \n",
    "|----||------------|\n",
    "|99  || 99         |\n"
   ]
  },
  {
   "cell_type": "markdown",
   "metadata": {},
   "source": [
    "As you can see, whenever the CSD is less than two digits long, we need to add a leading 0."
   ]
  },
  {
   "cell_type": "markdown",
   "metadata": {},
   "source": [
    "# <u>Applying the changes above.</u>"
   ]
  },
  {
   "cell_type": "code",
   "execution_count": 11,
   "metadata": {},
   "outputs": [
    {
     "name": "stdout",
     "output_type": "stream",
     "text": [
      "   CSD BOROUGH SCHOOL CODE                SCHOOL NAME GRADE  PROGRAM TYPE  \\\n",
      "0    1       M        M015  P.S. 015 Roberto Clemente     0K       GEN ED   \n",
      "1    1       M        M015  P.S. 015 Roberto Clemente     0K          CTT   \n",
      "2    1       M        M015  P.S. 015 Roberto Clemente     01       GEN ED   \n",
      "3    1       M        M015  P.S. 015 Roberto Clemente     01          CTT   \n",
      "4    1       M        M015  P.S. 015 Roberto Clemente     02       GEN ED   \n",
      "\n",
      "  CORE SUBJECT (MS CORE and 9-12 ONLY) CORE COURSE (MS CORE and 9-12 ONLY)  \\\n",
      "0                                    -                                   -   \n",
      "1                                    -                                   -   \n",
      "2                                    -                                   -   \n",
      "3                                    -                                   -   \n",
      "4                                    -                                   -   \n",
      "\n",
      "  SERVICE CATEGORY(K-9* ONLY)  NUMBER OF STUDENTS / SEATS FILLED  \\\n",
      "0                           -                               19.0   \n",
      "1                           -                               21.0   \n",
      "2                           -                               17.0   \n",
      "3                           -                               17.0   \n",
      "4                           -                               15.0   \n",
      "\n",
      "   NUMBER OF SECTIONS  AVERAGE CLASS SIZE  SIZE OF SMALLEST CLASS  \\\n",
      "0                 1.0                19.0                    19.0   \n",
      "1                 1.0                21.0                    21.0   \n",
      "2                 1.0                17.0                    17.0   \n",
      "3                 1.0                17.0                    17.0   \n",
      "4                 1.0                15.0                    15.0   \n",
      "\n",
      "   SIZE OF LARGEST CLASS DATA SOURCE  SCHOOLWIDE PUPIL-TEACHER RATIO  \\\n",
      "0                   19.0         ATS                             NaN   \n",
      "1                   21.0         ATS                             NaN   \n",
      "2                   17.0         ATS                             NaN   \n",
      "3                   17.0         ATS                             NaN   \n",
      "4                   15.0         ATS                             NaN   \n",
      "\n",
      "  padded_csd     DBN  \n",
      "0         01  01M015  \n",
      "1         01  01M015  \n",
      "2         01  01M015  \n",
      "3         01  01M015  \n",
      "4         01  01M015  \n"
     ]
    }
   ],
   "source": [
    "# Copy the dbn column in hs_directory into a new column called DBN\n",
    "data[\"hs_directory\"][\"DBN\"] = data[\"hs_directory\"][\"dbn\"]\n",
    "\n",
    "\n",
    "def pad_csd(num):\n",
    "    '''Takes in a number\n",
    "       Converts the number to a string using the str() function.\n",
    "       Check the length of the string using the len() function.\n",
    "        -If the string is two digits long, returns the string.\n",
    "        -If the string is one digit long, adds a 0 to the front of the string, then returns it.\n",
    "        -You can use the string method zfill() to do this.'''\n",
    "    return str(num).zfill(2)\n",
    "\n",
    "# Create a new column called \"padded_csd\" in the \"class_size\" dataset.\n",
    "# I did this using the pandas.Series.apply() method along with the custom function to generate this column.\n",
    "data[\"class_size\"][\"padded_csd\"] = data[\"class_size\"][\"CSD\"].apply(pad_csd)\n",
    "\n",
    "# Use the addition operator (+) along with the padded_csd and SCHOOL CODE columns of class_size\n",
    "data[\"class_size\"][\"DBN\"] = data[\"class_size\"][\"padded_csd\"] + data[\"class_size\"][\"SCHOOL CODE\"]\n",
    "\n",
    "# Display the first few rows of class_size to double check the DBN column.\n",
    "print(data[\"class_size\"].head())"
   ]
  },
  {
   "cell_type": "markdown",
   "metadata": {},
   "source": [
    "# <u>Coverting the relevant columns into a data type convenient for analysis.</u>"
   ]
  },
  {
   "cell_type": "markdown",
   "metadata": {},
   "source": [
    "Now we're almost ready to combine our datasets. Before we do, let's take some time to calculate variables that are useful in our analysis. We've already discussed one such variable -- a column that totals up the SAT scores for the different sections of the exam. This makes it much easier to correlate scores with demographic factors because we'll be working with a single number, rather than three different ones.\n",
    "\n",
    "\n",
    "Before we can generate this column, we'll need to convert the __SAT Math Avg. Score__, __SAT Critical Reading Avg. Score__, and __SAT Writing Avg. Score__ columns in the __sat_results__ dataset from the __object (string)__ data type to a __numeric data type__. We can use the pandas.to_numeric() method for the conversion. If we don't convert the values, we won't be able to add the columns together."
   ]
  },
  {
   "cell_type": "code",
   "execution_count": 12,
   "metadata": {},
   "outputs": [
    {
     "name": "stdout",
     "output_type": "stream",
     "text": [
      "0    1122.0\n",
      "1    1172.0\n",
      "2    1149.0\n",
      "3    1174.0\n",
      "4    1207.0\n",
      "Name: sat_score, dtype: float64\n"
     ]
    }
   ],
   "source": [
    "# Convert columns to numeric data types\n",
    "cols = ['SAT Math Avg. Score', 'SAT Critical Reading Avg. Score', 'SAT Writing Avg. Score']\n",
    "for c in cols:\n",
    "    data[\"sat_results\"][c] = pd.to_numeric(data[\"sat_results\"][c], errors=\"coerce\")\n",
    "    \n",
    "# Create a column called sat_score in sat_results that holds the combined SAT score for each student.\n",
    "data['sat_results']['sat_score'] = data['sat_results'][cols[0]] + data['sat_results'][cols[1]] + data['sat_results'][cols[2]]\n",
    "\n",
    "# Display the first few rows of the sat_score column of sat_results to verify that everything went okay.\n",
    "print(data['sat_results']['sat_score'].head())"
   ]
  },
  {
   "cell_type": "markdown",
   "metadata": {},
   "source": [
    "# <u> Parsing the latitude and longitude coordinates for each school.</u>"
   ]
  },
  {
   "cell_type": "markdown",
   "metadata": {},
   "source": [
    "We'll want to parse the latitude and longitude coordinates for each school. This enables us to map the schools and uncover any geographic patterns in the data. The coordinates are currently in the text field __Location 1__ in the __hs_directory__ dataset."
   ]
  },
  {
   "cell_type": "markdown",
   "metadata": {},
   "source": [
    "### 1. _For Latitude_"
   ]
  },
  {
   "cell_type": "code",
   "execution_count": 13,
   "metadata": {},
   "outputs": [
    {
     "name": "stdout",
     "output_type": "stream",
     "text": [
      "      dbn                                        school_name       boro  \\\n",
      "0  17K548                Brooklyn School for Music & Theatre   Brooklyn   \n",
      "1  09X543                   High School for Violin and Dance      Bronx   \n",
      "2  09X327        Comprehensive Model School Project M.S. 327      Bronx   \n",
      "3  02M280     Manhattan Early College School for Advertising  Manhattan   \n",
      "4  28Q680  Queens Gateway to Health Sciences Secondary Sc...     Queens   \n",
      "\n",
      "  building_code    phone_number    fax_number grade_span_min  grade_span_max  \\\n",
      "0          K440    718-230-6250  718-230-6262              9              12   \n",
      "1          X400    718-842-0687  718-589-9849              9              12   \n",
      "2          X240    718-294-8111  718-294-8109              6              12   \n",
      "3          M520  718-935-3477             NaN              9              10   \n",
      "4          Q695    718-969-3155  718-969-3552              6              12   \n",
      "\n",
      "  expgrade_span_min  expgrade_span_max  ...  \\\n",
      "0               NaN                NaN  ...   \n",
      "1               NaN                NaN  ...   \n",
      "2               NaN                NaN  ...   \n",
      "3                 9               14.0  ...   \n",
      "4               NaN                NaN  ...   \n",
      "\n",
      "                            priority04                       priority05  \\\n",
      "0                                  NaN                              NaN   \n",
      "1      Then to New York City residents                              NaN   \n",
      "2  Then to Bronx students or residents  Then to New York City residents   \n",
      "3      Then to New York City residents                              NaN   \n",
      "4      Then to New York City residents                              NaN   \n",
      "\n",
      "  priority06 priority07 priority08  priority09 priority10  \\\n",
      "0        NaN        NaN        NaN         NaN        NaN   \n",
      "1        NaN        NaN        NaN         NaN        NaN   \n",
      "2        NaN        NaN        NaN         NaN        NaN   \n",
      "3        NaN        NaN        NaN         NaN        NaN   \n",
      "4        NaN        NaN        NaN         NaN        NaN   \n",
      "\n",
      "                                          Location 1     DBN  \\\n",
      "0  883 Classon Avenue\\nBrooklyn, NY 11225\\n(40.67...  17K548   \n",
      "1  1110 Boston Road\\nBronx, NY 10456\\n(40.8276026...  09X543   \n",
      "2  1501 Jerome Avenue\\nBronx, NY 10452\\n(40.84241...  09X327   \n",
      "3  411 Pearl Street\\nNew York, NY 10038\\n(40.7106...  02M280   \n",
      "4  160-20 Goethals Avenue\\nJamaica, NY 11432\\n(40...  28Q680   \n",
      "\n",
      "                  lat  \n",
      "0   40.67029890700047  \n",
      "1    40.8276026690005  \n",
      "2  40.842414068000494  \n",
      "3   40.71067947100045  \n",
      "4  40.718810094000446  \n",
      "\n",
      "[5 rows x 60 columns]\n"
     ]
    }
   ],
   "source": [
    "# Create Custom Function\n",
    "def find_lat(loc):\n",
    "    '''- Takes in a string\n",
    "       - Uses a regular expression to extract the coordinates\n",
    "       - Uses string manipulation functions to pull out the latitude\n",
    "       - Returns the latitude'''\n",
    "    coords = re.findall(\"\\(.+\\)\", loc)\n",
    "    lat = coords[0].split(\",\")[0].replace(\"(\", \"\")\n",
    "    return lat\n",
    "\n",
    "# Apply the function across the Location 1 column of hs_directory\n",
    "data[\"hs_directory\"][\"lat\"] = data[\"hs_directory\"][\"Location 1\"].apply(find_lat)\n",
    "\n",
    "# Display the first few rows of hs_directory to verify the results.\n",
    "print(data[\"hs_directory\"].head())"
   ]
  },
  {
   "cell_type": "markdown",
   "metadata": {},
   "source": [
    "### 2. _For Longitude_"
   ]
  },
  {
   "cell_type": "code",
   "execution_count": 14,
   "metadata": {},
   "outputs": [],
   "source": [
    "# Custom function for extracting longitude.\n",
    "def find_lon(loc):\n",
    "    '''- Takes in a string.\n",
    "       - Uses the regular expression on the previous screen to extract the coordinates.\n",
    "       - Uses string manipulation functions to pull out the longitude.\n",
    "       - Returns the longitude.'''\n",
    "    coords = re.findall(\"\\(.+\\)\", loc)\n",
    "    lon = coords[0].split(\",\")[1].replace(\")\", \"\").strip()\n",
    "    return lon\n",
    "\n",
    "# Apply the function across the Location 1 column of hs_directory.\n",
    "data[\"hs_directory\"][\"lon\"] = data[\"hs_directory\"][\"Location 1\"].apply(find_lon)\n",
    "\n",
    "# Convert the lat and lon columns of hs_directory to numbers.\n",
    "data[\"hs_directory\"][\"lat\"] = pd.to_numeric(data[\"hs_directory\"][\"lat\"], errors=\"coerce\")\n",
    "data[\"hs_directory\"][\"lon\"] = pd.to_numeric(data[\"hs_directory\"][\"lon\"], errors=\"coerce\")"
   ]
  },
  {
   "cell_type": "markdown",
   "metadata": {},
   "source": [
    "# <h1><center> C. Combining The Data.</center></h1>"
   ]
  },
  {
   "cell_type": "markdown",
   "metadata": {},
   "source": [
    "The first thing we'll need to do in preparation for the merge is condense some of the datasets. In the last lesson, we noticed that the values in the __DBN__ column were unique in the __sat_results__ data set. Other data sets like __class_size__ had duplicate __DBN__ values.\n",
    "\n",
    "We'll need to condense these datasets so that each value in the __DBN__ column is unique. If not, we'll run into issues when it comes time to combine the datasets.\n",
    "\n",
    "\n",
    "The first dataset that we'll condense is __class_size__. The first few rows of __class_size__ look as below:"
   ]
  },
  {
   "cell_type": "code",
   "execution_count": 15,
   "metadata": {
    "scrolled": false
   },
   "outputs": [
    {
     "data": {
      "text/html": [
       "<div>\n",
       "<style scoped>\n",
       "    .dataframe tbody tr th:only-of-type {\n",
       "        vertical-align: middle;\n",
       "    }\n",
       "\n",
       "    .dataframe tbody tr th {\n",
       "        vertical-align: top;\n",
       "    }\n",
       "\n",
       "    .dataframe thead th {\n",
       "        text-align: right;\n",
       "    }\n",
       "</style>\n",
       "<table border=\"1\" class=\"dataframe\">\n",
       "  <thead>\n",
       "    <tr style=\"text-align: right;\">\n",
       "      <th></th>\n",
       "      <th>CSD</th>\n",
       "      <th>BOROUGH</th>\n",
       "      <th>SCHOOL CODE</th>\n",
       "      <th>SCHOOL NAME</th>\n",
       "      <th>GRADE</th>\n",
       "      <th>PROGRAM TYPE</th>\n",
       "      <th>CORE SUBJECT (MS CORE and 9-12 ONLY)</th>\n",
       "      <th>CORE COURSE (MS CORE and 9-12 ONLY)</th>\n",
       "      <th>SERVICE CATEGORY(K-9* ONLY)</th>\n",
       "      <th>NUMBER OF STUDENTS / SEATS FILLED</th>\n",
       "      <th>NUMBER OF SECTIONS</th>\n",
       "      <th>AVERAGE CLASS SIZE</th>\n",
       "      <th>SIZE OF SMALLEST CLASS</th>\n",
       "      <th>SIZE OF LARGEST CLASS</th>\n",
       "      <th>DATA SOURCE</th>\n",
       "      <th>SCHOOLWIDE PUPIL-TEACHER RATIO</th>\n",
       "      <th>padded_csd</th>\n",
       "      <th>DBN</th>\n",
       "    </tr>\n",
       "  </thead>\n",
       "  <tbody>\n",
       "    <tr>\n",
       "      <th>0</th>\n",
       "      <td>1</td>\n",
       "      <td>M</td>\n",
       "      <td>M015</td>\n",
       "      <td>P.S. 015 Roberto Clemente</td>\n",
       "      <td>0K</td>\n",
       "      <td>GEN ED</td>\n",
       "      <td>-</td>\n",
       "      <td>-</td>\n",
       "      <td>-</td>\n",
       "      <td>19.0</td>\n",
       "      <td>1.0</td>\n",
       "      <td>19.0</td>\n",
       "      <td>19.0</td>\n",
       "      <td>19.0</td>\n",
       "      <td>ATS</td>\n",
       "      <td>NaN</td>\n",
       "      <td>01</td>\n",
       "      <td>01M015</td>\n",
       "    </tr>\n",
       "    <tr>\n",
       "      <th>1</th>\n",
       "      <td>1</td>\n",
       "      <td>M</td>\n",
       "      <td>M015</td>\n",
       "      <td>P.S. 015 Roberto Clemente</td>\n",
       "      <td>0K</td>\n",
       "      <td>CTT</td>\n",
       "      <td>-</td>\n",
       "      <td>-</td>\n",
       "      <td>-</td>\n",
       "      <td>21.0</td>\n",
       "      <td>1.0</td>\n",
       "      <td>21.0</td>\n",
       "      <td>21.0</td>\n",
       "      <td>21.0</td>\n",
       "      <td>ATS</td>\n",
       "      <td>NaN</td>\n",
       "      <td>01</td>\n",
       "      <td>01M015</td>\n",
       "    </tr>\n",
       "    <tr>\n",
       "      <th>2</th>\n",
       "      <td>1</td>\n",
       "      <td>M</td>\n",
       "      <td>M015</td>\n",
       "      <td>P.S. 015 Roberto Clemente</td>\n",
       "      <td>01</td>\n",
       "      <td>GEN ED</td>\n",
       "      <td>-</td>\n",
       "      <td>-</td>\n",
       "      <td>-</td>\n",
       "      <td>17.0</td>\n",
       "      <td>1.0</td>\n",
       "      <td>17.0</td>\n",
       "      <td>17.0</td>\n",
       "      <td>17.0</td>\n",
       "      <td>ATS</td>\n",
       "      <td>NaN</td>\n",
       "      <td>01</td>\n",
       "      <td>01M015</td>\n",
       "    </tr>\n",
       "    <tr>\n",
       "      <th>3</th>\n",
       "      <td>1</td>\n",
       "      <td>M</td>\n",
       "      <td>M015</td>\n",
       "      <td>P.S. 015 Roberto Clemente</td>\n",
       "      <td>01</td>\n",
       "      <td>CTT</td>\n",
       "      <td>-</td>\n",
       "      <td>-</td>\n",
       "      <td>-</td>\n",
       "      <td>17.0</td>\n",
       "      <td>1.0</td>\n",
       "      <td>17.0</td>\n",
       "      <td>17.0</td>\n",
       "      <td>17.0</td>\n",
       "      <td>ATS</td>\n",
       "      <td>NaN</td>\n",
       "      <td>01</td>\n",
       "      <td>01M015</td>\n",
       "    </tr>\n",
       "    <tr>\n",
       "      <th>4</th>\n",
       "      <td>1</td>\n",
       "      <td>M</td>\n",
       "      <td>M015</td>\n",
       "      <td>P.S. 015 Roberto Clemente</td>\n",
       "      <td>02</td>\n",
       "      <td>GEN ED</td>\n",
       "      <td>-</td>\n",
       "      <td>-</td>\n",
       "      <td>-</td>\n",
       "      <td>15.0</td>\n",
       "      <td>1.0</td>\n",
       "      <td>15.0</td>\n",
       "      <td>15.0</td>\n",
       "      <td>15.0</td>\n",
       "      <td>ATS</td>\n",
       "      <td>NaN</td>\n",
       "      <td>01</td>\n",
       "      <td>01M015</td>\n",
       "    </tr>\n",
       "  </tbody>\n",
       "</table>\n",
       "</div>"
      ],
      "text/plain": [
       "   CSD BOROUGH SCHOOL CODE                SCHOOL NAME GRADE  PROGRAM TYPE  \\\n",
       "0    1       M        M015  P.S. 015 Roberto Clemente     0K       GEN ED   \n",
       "1    1       M        M015  P.S. 015 Roberto Clemente     0K          CTT   \n",
       "2    1       M        M015  P.S. 015 Roberto Clemente     01       GEN ED   \n",
       "3    1       M        M015  P.S. 015 Roberto Clemente     01          CTT   \n",
       "4    1       M        M015  P.S. 015 Roberto Clemente     02       GEN ED   \n",
       "\n",
       "  CORE SUBJECT (MS CORE and 9-12 ONLY) CORE COURSE (MS CORE and 9-12 ONLY)  \\\n",
       "0                                    -                                   -   \n",
       "1                                    -                                   -   \n",
       "2                                    -                                   -   \n",
       "3                                    -                                   -   \n",
       "4                                    -                                   -   \n",
       "\n",
       "  SERVICE CATEGORY(K-9* ONLY)  NUMBER OF STUDENTS / SEATS FILLED  \\\n",
       "0                           -                               19.0   \n",
       "1                           -                               21.0   \n",
       "2                           -                               17.0   \n",
       "3                           -                               17.0   \n",
       "4                           -                               15.0   \n",
       "\n",
       "   NUMBER OF SECTIONS  AVERAGE CLASS SIZE  SIZE OF SMALLEST CLASS  \\\n",
       "0                 1.0                19.0                    19.0   \n",
       "1                 1.0                21.0                    21.0   \n",
       "2                 1.0                17.0                    17.0   \n",
       "3                 1.0                17.0                    17.0   \n",
       "4                 1.0                15.0                    15.0   \n",
       "\n",
       "   SIZE OF LARGEST CLASS DATA SOURCE  SCHOOLWIDE PUPIL-TEACHER RATIO  \\\n",
       "0                   19.0         ATS                             NaN   \n",
       "1                   21.0         ATS                             NaN   \n",
       "2                   17.0         ATS                             NaN   \n",
       "3                   17.0         ATS                             NaN   \n",
       "4                   15.0         ATS                             NaN   \n",
       "\n",
       "  padded_csd     DBN  \n",
       "0         01  01M015  \n",
       "1         01  01M015  \n",
       "2         01  01M015  \n",
       "3         01  01M015  \n",
       "4         01  01M015  "
      ]
     },
     "execution_count": 15,
     "metadata": {},
     "output_type": "execute_result"
    }
   ],
   "source": [
    "# First few rows of the 'class_size' data\n",
    "data[\"class_size\"].head()"
   ]
  },
  {
   "cell_type": "markdown",
   "metadata": {},
   "source": [
    "## _Key Observations:_"
   ]
  },
  {
   "cell_type": "markdown",
   "metadata": {},
   "source": [
    "- As you can see, the first few rows all pertain to the same school, which is why the __DBN__ appears more than once.\n",
    "\n",
    "\n",
    "- It looks like each school has multiple values for \n",
    "   \n",
    "   * __GRADE__,\n",
    "   \n",
    "  <br>\n",
    "  \n",
    "  * __PROGRAM TYPE__,\n",
    "  \n",
    "  <br>\n",
    "  \n",
    "  * __CORE SUBJECT (MS CORE and 9-12 ONLY)__, and\n",
    "  <br>\n",
    "  \n",
    "  * __CORE COURSE (MS CORE and 9-12 ONLY)__."
   ]
  },
  {
   "cell_type": "markdown",
   "metadata": {},
   "source": [
    "### _Briefly examine grade values in class size data_"
   ]
  },
  {
   "cell_type": "code",
   "execution_count": 16,
   "metadata": {},
   "outputs": [
    {
     "data": {
      "text/html": [
       "<div>\n",
       "<style scoped>\n",
       "    .dataframe tbody tr th:only-of-type {\n",
       "        vertical-align: middle;\n",
       "    }\n",
       "\n",
       "    .dataframe tbody tr th {\n",
       "        vertical-align: top;\n",
       "    }\n",
       "\n",
       "    .dataframe thead th {\n",
       "        text-align: right;\n",
       "    }\n",
       "</style>\n",
       "<table border=\"1\" class=\"dataframe\">\n",
       "  <thead>\n",
       "    <tr style=\"text-align: right;\">\n",
       "      <th></th>\n",
       "      <th>CSD</th>\n",
       "      <th>BOROUGH</th>\n",
       "      <th>SCHOOL CODE</th>\n",
       "      <th>SCHOOL NAME</th>\n",
       "      <th>GRADE</th>\n",
       "      <th>PROGRAM TYPE</th>\n",
       "      <th>CORE SUBJECT (MS CORE and 9-12 ONLY)</th>\n",
       "      <th>CORE COURSE (MS CORE and 9-12 ONLY)</th>\n",
       "      <th>SERVICE CATEGORY(K-9* ONLY)</th>\n",
       "      <th>NUMBER OF STUDENTS / SEATS FILLED</th>\n",
       "      <th>NUMBER OF SECTIONS</th>\n",
       "      <th>AVERAGE CLASS SIZE</th>\n",
       "      <th>SIZE OF SMALLEST CLASS</th>\n",
       "      <th>SIZE OF LARGEST CLASS</th>\n",
       "      <th>DATA SOURCE</th>\n",
       "      <th>SCHOOLWIDE PUPIL-TEACHER RATIO</th>\n",
       "      <th>padded_csd</th>\n",
       "      <th>DBN</th>\n",
       "    </tr>\n",
       "  </thead>\n",
       "  <tbody>\n",
       "    <tr>\n",
       "      <th>0</th>\n",
       "      <td>1</td>\n",
       "      <td>M</td>\n",
       "      <td>M015</td>\n",
       "      <td>P.S. 015 Roberto Clemente</td>\n",
       "      <td>0K</td>\n",
       "      <td>GEN ED</td>\n",
       "      <td>-</td>\n",
       "      <td>-</td>\n",
       "      <td>-</td>\n",
       "      <td>19.0</td>\n",
       "      <td>1.0</td>\n",
       "      <td>19.0</td>\n",
       "      <td>19.0</td>\n",
       "      <td>19.0</td>\n",
       "      <td>ATS</td>\n",
       "      <td>NaN</td>\n",
       "      <td>01</td>\n",
       "      <td>01M015</td>\n",
       "    </tr>\n",
       "    <tr>\n",
       "      <th>1</th>\n",
       "      <td>1</td>\n",
       "      <td>M</td>\n",
       "      <td>M015</td>\n",
       "      <td>P.S. 015 Roberto Clemente</td>\n",
       "      <td>0K</td>\n",
       "      <td>CTT</td>\n",
       "      <td>-</td>\n",
       "      <td>-</td>\n",
       "      <td>-</td>\n",
       "      <td>21.0</td>\n",
       "      <td>1.0</td>\n",
       "      <td>21.0</td>\n",
       "      <td>21.0</td>\n",
       "      <td>21.0</td>\n",
       "      <td>ATS</td>\n",
       "      <td>NaN</td>\n",
       "      <td>01</td>\n",
       "      <td>01M015</td>\n",
       "    </tr>\n",
       "    <tr>\n",
       "      <th>2</th>\n",
       "      <td>1</td>\n",
       "      <td>M</td>\n",
       "      <td>M015</td>\n",
       "      <td>P.S. 015 Roberto Clemente</td>\n",
       "      <td>01</td>\n",
       "      <td>GEN ED</td>\n",
       "      <td>-</td>\n",
       "      <td>-</td>\n",
       "      <td>-</td>\n",
       "      <td>17.0</td>\n",
       "      <td>1.0</td>\n",
       "      <td>17.0</td>\n",
       "      <td>17.0</td>\n",
       "      <td>17.0</td>\n",
       "      <td>ATS</td>\n",
       "      <td>NaN</td>\n",
       "      <td>01</td>\n",
       "      <td>01M015</td>\n",
       "    </tr>\n",
       "    <tr>\n",
       "      <th>3</th>\n",
       "      <td>1</td>\n",
       "      <td>M</td>\n",
       "      <td>M015</td>\n",
       "      <td>P.S. 015 Roberto Clemente</td>\n",
       "      <td>01</td>\n",
       "      <td>CTT</td>\n",
       "      <td>-</td>\n",
       "      <td>-</td>\n",
       "      <td>-</td>\n",
       "      <td>17.0</td>\n",
       "      <td>1.0</td>\n",
       "      <td>17.0</td>\n",
       "      <td>17.0</td>\n",
       "      <td>17.0</td>\n",
       "      <td>ATS</td>\n",
       "      <td>NaN</td>\n",
       "      <td>01</td>\n",
       "      <td>01M015</td>\n",
       "    </tr>\n",
       "    <tr>\n",
       "      <th>4</th>\n",
       "      <td>1</td>\n",
       "      <td>M</td>\n",
       "      <td>M015</td>\n",
       "      <td>P.S. 015 Roberto Clemente</td>\n",
       "      <td>02</td>\n",
       "      <td>GEN ED</td>\n",
       "      <td>-</td>\n",
       "      <td>-</td>\n",
       "      <td>-</td>\n",
       "      <td>15.0</td>\n",
       "      <td>1.0</td>\n",
       "      <td>15.0</td>\n",
       "      <td>15.0</td>\n",
       "      <td>15.0</td>\n",
       "      <td>ATS</td>\n",
       "      <td>NaN</td>\n",
       "      <td>01</td>\n",
       "      <td>01M015</td>\n",
       "    </tr>\n",
       "  </tbody>\n",
       "</table>\n",
       "</div>"
      ],
      "text/plain": [
       "   CSD BOROUGH SCHOOL CODE                SCHOOL NAME GRADE  PROGRAM TYPE  \\\n",
       "0    1       M        M015  P.S. 015 Roberto Clemente     0K       GEN ED   \n",
       "1    1       M        M015  P.S. 015 Roberto Clemente     0K          CTT   \n",
       "2    1       M        M015  P.S. 015 Roberto Clemente     01       GEN ED   \n",
       "3    1       M        M015  P.S. 015 Roberto Clemente     01          CTT   \n",
       "4    1       M        M015  P.S. 015 Roberto Clemente     02       GEN ED   \n",
       "\n",
       "  CORE SUBJECT (MS CORE and 9-12 ONLY) CORE COURSE (MS CORE and 9-12 ONLY)  \\\n",
       "0                                    -                                   -   \n",
       "1                                    -                                   -   \n",
       "2                                    -                                   -   \n",
       "3                                    -                                   -   \n",
       "4                                    -                                   -   \n",
       "\n",
       "  SERVICE CATEGORY(K-9* ONLY)  NUMBER OF STUDENTS / SEATS FILLED  \\\n",
       "0                           -                               19.0   \n",
       "1                           -                               21.0   \n",
       "2                           -                               17.0   \n",
       "3                           -                               17.0   \n",
       "4                           -                               15.0   \n",
       "\n",
       "   NUMBER OF SECTIONS  AVERAGE CLASS SIZE  SIZE OF SMALLEST CLASS  \\\n",
       "0                 1.0                19.0                    19.0   \n",
       "1                 1.0                21.0                    21.0   \n",
       "2                 1.0                17.0                    17.0   \n",
       "3                 1.0                17.0                    17.0   \n",
       "4                 1.0                15.0                    15.0   \n",
       "\n",
       "   SIZE OF LARGEST CLASS DATA SOURCE  SCHOOLWIDE PUPIL-TEACHER RATIO  \\\n",
       "0                   19.0         ATS                             NaN   \n",
       "1                   21.0         ATS                             NaN   \n",
       "2                   17.0         ATS                             NaN   \n",
       "3                   17.0         ATS                             NaN   \n",
       "4                   15.0         ATS                             NaN   \n",
       "\n",
       "  padded_csd     DBN  \n",
       "0         01  01M015  \n",
       "1         01  01M015  \n",
       "2         01  01M015  \n",
       "3         01  01M015  \n",
       "4         01  01M015  "
      ]
     },
     "execution_count": 16,
     "metadata": {},
     "output_type": "execute_result"
    }
   ],
   "source": [
    "# create a class_size variable\n",
    "class_size = data[\"class_size\"]\n",
    "\n",
    "class_size.head()"
   ]
  },
  {
   "cell_type": "code",
   "execution_count": 17,
   "metadata": {},
   "outputs": [
    {
     "data": {
      "text/plain": [
       "array(['0K', '01', '02', '03', '04', '05', '0K-09', nan, '06', '07', '08',\n",
       "       'MS Core', '09-12', '09'], dtype=object)"
      ]
     },
     "execution_count": 17,
     "metadata": {},
     "output_type": "execute_result"
    }
   ],
   "source": [
    "# Find the unique values for the GRADE column\n",
    "class_size[\"GRADE \"].unique()"
   ]
  },
  {
   "cell_type": "markdown",
   "metadata": {},
   "source": [
    "If we look at the unique values for __GRADE__, we get the above output.\n",
    "\n",
    "\n",
    "Since we're dealing with __high schools__, we're only concerned with grades __9__ through __12__. That means we only want to pick rows where the value in the GRADE column is __09-12__."
   ]
  },
  {
   "cell_type": "code",
   "execution_count": 18,
   "metadata": {},
   "outputs": [
    {
     "data": {
      "text/plain": [
       "array(['GEN ED', 'CTT', 'SPEC ED', nan, 'G&T'], dtype=object)"
      ]
     },
     "execution_count": 18,
     "metadata": {},
     "output_type": "execute_result"
    }
   ],
   "source": [
    "# Find the unique values for the PROGRAM TYPE column\n",
    "class_size[\"PROGRAM TYPE\"].unique()"
   ]
  },
  {
   "cell_type": "markdown",
   "metadata": {},
   "source": [
    "If we look at the unique values for __PROGRAM TYPE__, we get the above output:\n",
    "\n",
    "\n",
    "Each school can have multiple program types. Since __GEN ED__ is the largest category by far, let's only select rows where __PROGRAM TYPE__ is __GEN ED__."
   ]
  },
  {
   "cell_type": "markdown",
   "metadata": {},
   "source": [
    "# <u> Condensing the Class Size Data Set.</u>"
   ]
  },
  {
   "cell_type": "code",
   "execution_count": 19,
   "metadata": {},
   "outputs": [
    {
     "name": "stdout",
     "output_type": "stream",
     "text": [
      "     CSD BOROUGH SCHOOL CODE                                    SCHOOL NAME  \\\n",
      "225    1       M        M292  Henry Street School for International Studies   \n",
      "226    1       M        M292  Henry Street School for International Studies   \n",
      "227    1       M        M292  Henry Street School for International Studies   \n",
      "228    1       M        M292  Henry Street School for International Studies   \n",
      "229    1       M        M292  Henry Street School for International Studies   \n",
      "\n",
      "    GRADE  PROGRAM TYPE CORE SUBJECT (MS CORE and 9-12 ONLY)  \\\n",
      "225  09-12       GEN ED                              ENGLISH   \n",
      "226  09-12       GEN ED                              ENGLISH   \n",
      "227  09-12       GEN ED                              ENGLISH   \n",
      "228  09-12       GEN ED                              ENGLISH   \n",
      "229  09-12       GEN ED                                 MATH   \n",
      "\n",
      "    CORE COURSE (MS CORE and 9-12 ONLY) SERVICE CATEGORY(K-9* ONLY)  \\\n",
      "225                           English 9                           -   \n",
      "226                          English 10                           -   \n",
      "227                          English 11                           -   \n",
      "228                          English 12                           -   \n",
      "229                  Integrated Algebra                           -   \n",
      "\n",
      "     NUMBER OF STUDENTS / SEATS FILLED  NUMBER OF SECTIONS  \\\n",
      "225                               63.0                 3.0   \n",
      "226                               79.0                 3.0   \n",
      "227                               38.0                 2.0   \n",
      "228                               69.0                 3.0   \n",
      "229                               53.0                 3.0   \n",
      "\n",
      "     AVERAGE CLASS SIZE  SIZE OF SMALLEST CLASS  SIZE OF LARGEST CLASS  \\\n",
      "225                21.0                    19.0                   25.0   \n",
      "226                26.3                    24.0                   31.0   \n",
      "227                19.0                    16.0                   22.0   \n",
      "228                23.0                    13.0                   30.0   \n",
      "229                17.7                    16.0                   21.0   \n",
      "\n",
      "    DATA SOURCE  SCHOOLWIDE PUPIL-TEACHER RATIO padded_csd     DBN  \n",
      "225       STARS                             NaN         01  01M292  \n",
      "226       STARS                             NaN         01  01M292  \n",
      "227       STARS                             NaN         01  01M292  \n",
      "228       STARS                             NaN         01  01M292  \n",
      "229       STARS                             NaN         01  01M292  \n"
     ]
    }
   ],
   "source": [
    "# Filter class_size so the GRADE  column only contains the value 09-12. \n",
    "# Note that the name of the GRADE  column has a space at the end; you'll generate an error if you don't include it.\n",
    "class_size = class_size[class_size[\"GRADE \"] == \"09-12\"]\n",
    "\n",
    "# Filter class_size so that the PROGRAM TYPE column only contains the value GEN ED.\n",
    "class_size = class_size[class_size[\"PROGRAM TYPE\"] == \"GEN ED\"]\n",
    "\n",
    "# Display the first five rows of class_size to verify.\n",
    "print(class_size.head())"
   ]
  },
  {
   "cell_type": "markdown",
   "metadata": {},
   "source": [
    "## _Key Observations:_"
   ]
  },
  {
   "cell_type": "markdown",
   "metadata": {},
   "source": [
    "As we saw when we displayed __class_size__, __DBN__ still isn't completely unique. This is due to the __CORE COURSE (MS CORE and 9-12 ONLY)__ and __CORE SUBJECT (MS CORE and 9-12 ONLY)__ columns.\n",
    "\n",
    "\n",
    "\n",
    "__CORE COURSE (MS CORE and 9-12 ONLY)__ and __CORE SUBJECT (MS CORE and 9-12 ONLY)__ seem to pertain to different kinds of classes. For example, here are the unique values for __CORE SUBJECT (MS CORE and 9-12 ONLY)__ below:"
   ]
  },
  {
   "cell_type": "code",
   "execution_count": 20,
   "metadata": {},
   "outputs": [
    {
     "data": {
      "text/plain": [
       "array(['ENGLISH', 'MATH', 'SCIENCE', 'SOCIAL STUDIES'], dtype=object)"
      ]
     },
     "execution_count": 20,
     "metadata": {},
     "output_type": "execute_result"
    }
   ],
   "source": [
    "# Unique values for CORE SUBJECT (MS CORE and 9-12 ONLY)\n",
    "class_size[\"CORE SUBJECT (MS CORE and 9-12 ONLY)\"].unique()"
   ]
  },
  {
   "cell_type": "markdown",
   "metadata": {},
   "source": [
    "This column only seems to include certain subjects. We want our __class size__ data to include every single class a school offers -- not just a subset of them. What we can do is take the average across all of the classes a school offers. This gives us unique __DBN__ values, while also incorporating as much data as possible into the average."
   ]
  },
  {
   "cell_type": "markdown",
   "metadata": {},
   "source": [
    "# <u> Computing Average Class Sizes.</u>"
   ]
  },
  {
   "cell_type": "code",
   "execution_count": 21,
   "metadata": {},
   "outputs": [
    {
     "name": "stdout",
     "output_type": "stream",
     "text": [
      "      DBN  CSD  NUMBER OF STUDENTS / SEATS FILLED  NUMBER OF SECTIONS  \\\n",
      "0  01M292  1.0                            88.0000            4.000000   \n",
      "1  01M332  1.0                            46.0000            2.000000   \n",
      "2  01M378  1.0                            33.0000            1.000000   \n",
      "3  01M448  1.0                           105.6875            4.750000   \n",
      "4  01M450  1.0                            57.6000            2.733333   \n",
      "\n",
      "   AVERAGE CLASS SIZE  SIZE OF SMALLEST CLASS  SIZE OF LARGEST CLASS  \\\n",
      "0           22.564286                   18.50              26.571429   \n",
      "1           22.000000                   21.00              23.500000   \n",
      "2           33.000000                   33.00              33.000000   \n",
      "3           22.231250                   18.25              27.062500   \n",
      "4           21.200000                   19.40              22.866667   \n",
      "\n",
      "   SCHOOLWIDE PUPIL-TEACHER RATIO  \n",
      "0                             NaN  \n",
      "1                             NaN  \n",
      "2                             NaN  \n",
      "3                             NaN  \n",
      "4                             NaN  \n"
     ]
    }
   ],
   "source": [
    "# Find the average values for each column associated with each DBN in class_size.\n",
    "class_size = class_size.groupby(\"DBN\").agg(np.mean)\n",
    "\n",
    "# Reset the index to make DBN a column again.\n",
    "class_size.reset_index(inplace=True)\n",
    "\n",
    "# Assign class_size back to the class_size key of the data dictionary.\n",
    "data[\"class_size\"] = class_size\n",
    "\n",
    "# Display the first few rows of data[\"class_size\"] to verify that everything went okay.\n",
    "print(data[\"class_size\"].head())"
   ]
  },
  {
   "cell_type": "markdown",
   "metadata": {},
   "source": [
    "# <u> Condensing The Demographics Data Set.</u>"
   ]
  },
  {
   "cell_type": "code",
   "execution_count": 22,
   "metadata": {},
   "outputs": [
    {
     "data": {
      "text/html": [
       "<div>\n",
       "<style scoped>\n",
       "    .dataframe tbody tr th:only-of-type {\n",
       "        vertical-align: middle;\n",
       "    }\n",
       "\n",
       "    .dataframe tbody tr th {\n",
       "        vertical-align: top;\n",
       "    }\n",
       "\n",
       "    .dataframe thead th {\n",
       "        text-align: right;\n",
       "    }\n",
       "</style>\n",
       "<table border=\"1\" class=\"dataframe\">\n",
       "  <thead>\n",
       "    <tr style=\"text-align: right;\">\n",
       "      <th></th>\n",
       "      <th>DBN</th>\n",
       "      <th>Name</th>\n",
       "      <th>schoolyear</th>\n",
       "      <th>fl_percent</th>\n",
       "      <th>frl_percent</th>\n",
       "      <th>total_enrollment</th>\n",
       "      <th>prek</th>\n",
       "      <th>k</th>\n",
       "      <th>grade1</th>\n",
       "      <th>grade2</th>\n",
       "      <th>...</th>\n",
       "      <th>black_num</th>\n",
       "      <th>black_per</th>\n",
       "      <th>hispanic_num</th>\n",
       "      <th>hispanic_per</th>\n",
       "      <th>white_num</th>\n",
       "      <th>white_per</th>\n",
       "      <th>male_num</th>\n",
       "      <th>male_per</th>\n",
       "      <th>female_num</th>\n",
       "      <th>female_per</th>\n",
       "    </tr>\n",
       "  </thead>\n",
       "  <tbody>\n",
       "    <tr>\n",
       "      <th>0</th>\n",
       "      <td>01M015</td>\n",
       "      <td>P.S. 015 ROBERTO CLEMENTE</td>\n",
       "      <td>20052006</td>\n",
       "      <td>89.4</td>\n",
       "      <td>NaN</td>\n",
       "      <td>281</td>\n",
       "      <td>15</td>\n",
       "      <td>36</td>\n",
       "      <td>40</td>\n",
       "      <td>33</td>\n",
       "      <td>...</td>\n",
       "      <td>74</td>\n",
       "      <td>26.3</td>\n",
       "      <td>189</td>\n",
       "      <td>67.3</td>\n",
       "      <td>5</td>\n",
       "      <td>1.8</td>\n",
       "      <td>158.0</td>\n",
       "      <td>56.2</td>\n",
       "      <td>123.0</td>\n",
       "      <td>43.8</td>\n",
       "    </tr>\n",
       "    <tr>\n",
       "      <th>1</th>\n",
       "      <td>01M015</td>\n",
       "      <td>P.S. 015 ROBERTO CLEMENTE</td>\n",
       "      <td>20062007</td>\n",
       "      <td>89.4</td>\n",
       "      <td>NaN</td>\n",
       "      <td>243</td>\n",
       "      <td>15</td>\n",
       "      <td>29</td>\n",
       "      <td>39</td>\n",
       "      <td>38</td>\n",
       "      <td>...</td>\n",
       "      <td>68</td>\n",
       "      <td>28.0</td>\n",
       "      <td>153</td>\n",
       "      <td>63.0</td>\n",
       "      <td>4</td>\n",
       "      <td>1.6</td>\n",
       "      <td>140.0</td>\n",
       "      <td>57.6</td>\n",
       "      <td>103.0</td>\n",
       "      <td>42.4</td>\n",
       "    </tr>\n",
       "    <tr>\n",
       "      <th>2</th>\n",
       "      <td>01M015</td>\n",
       "      <td>P.S. 015 ROBERTO CLEMENTE</td>\n",
       "      <td>20072008</td>\n",
       "      <td>89.4</td>\n",
       "      <td>NaN</td>\n",
       "      <td>261</td>\n",
       "      <td>18</td>\n",
       "      <td>43</td>\n",
       "      <td>39</td>\n",
       "      <td>36</td>\n",
       "      <td>...</td>\n",
       "      <td>77</td>\n",
       "      <td>29.5</td>\n",
       "      <td>157</td>\n",
       "      <td>60.2</td>\n",
       "      <td>7</td>\n",
       "      <td>2.7</td>\n",
       "      <td>143.0</td>\n",
       "      <td>54.8</td>\n",
       "      <td>118.0</td>\n",
       "      <td>45.2</td>\n",
       "    </tr>\n",
       "    <tr>\n",
       "      <th>3</th>\n",
       "      <td>01M015</td>\n",
       "      <td>P.S. 015 ROBERTO CLEMENTE</td>\n",
       "      <td>20082009</td>\n",
       "      <td>89.4</td>\n",
       "      <td>NaN</td>\n",
       "      <td>252</td>\n",
       "      <td>17</td>\n",
       "      <td>37</td>\n",
       "      <td>44</td>\n",
       "      <td>32</td>\n",
       "      <td>...</td>\n",
       "      <td>75</td>\n",
       "      <td>29.8</td>\n",
       "      <td>149</td>\n",
       "      <td>59.1</td>\n",
       "      <td>7</td>\n",
       "      <td>2.8</td>\n",
       "      <td>149.0</td>\n",
       "      <td>59.1</td>\n",
       "      <td>103.0</td>\n",
       "      <td>40.9</td>\n",
       "    </tr>\n",
       "    <tr>\n",
       "      <th>4</th>\n",
       "      <td>01M015</td>\n",
       "      <td>P.S. 015 ROBERTO CLEMENTE</td>\n",
       "      <td>20092010</td>\n",
       "      <td></td>\n",
       "      <td>96.5</td>\n",
       "      <td>208</td>\n",
       "      <td>16</td>\n",
       "      <td>40</td>\n",
       "      <td>28</td>\n",
       "      <td>32</td>\n",
       "      <td>...</td>\n",
       "      <td>67</td>\n",
       "      <td>32.2</td>\n",
       "      <td>118</td>\n",
       "      <td>56.7</td>\n",
       "      <td>6</td>\n",
       "      <td>2.9</td>\n",
       "      <td>124.0</td>\n",
       "      <td>59.6</td>\n",
       "      <td>84.0</td>\n",
       "      <td>40.4</td>\n",
       "    </tr>\n",
       "  </tbody>\n",
       "</table>\n",
       "<p>5 rows × 38 columns</p>\n",
       "</div>"
      ],
      "text/plain": [
       "      DBN                       Name  schoolyear fl_percent  frl_percent  \\\n",
       "0  01M015  P.S. 015 ROBERTO CLEMENTE    20052006       89.4          NaN   \n",
       "1  01M015  P.S. 015 ROBERTO CLEMENTE    20062007       89.4          NaN   \n",
       "2  01M015  P.S. 015 ROBERTO CLEMENTE    20072008       89.4          NaN   \n",
       "3  01M015  P.S. 015 ROBERTO CLEMENTE    20082009       89.4          NaN   \n",
       "4  01M015  P.S. 015 ROBERTO CLEMENTE    20092010                    96.5   \n",
       "\n",
       "   total_enrollment prek   k grade1 grade2  ... black_num black_per  \\\n",
       "0               281   15  36     40     33  ...        74      26.3   \n",
       "1               243   15  29     39     38  ...        68      28.0   \n",
       "2               261   18  43     39     36  ...        77      29.5   \n",
       "3               252   17  37     44     32  ...        75      29.8   \n",
       "4               208   16  40     28     32  ...        67      32.2   \n",
       "\n",
       "  hispanic_num hispanic_per white_num white_per male_num male_per female_num  \\\n",
       "0          189         67.3         5       1.8    158.0     56.2      123.0   \n",
       "1          153         63.0         4       1.6    140.0     57.6      103.0   \n",
       "2          157         60.2         7       2.7    143.0     54.8      118.0   \n",
       "3          149         59.1         7       2.8    149.0     59.1      103.0   \n",
       "4          118         56.7         6       2.9    124.0     59.6       84.0   \n",
       "\n",
       "  female_per  \n",
       "0       43.8  \n",
       "1       42.4  \n",
       "2       45.2  \n",
       "3       40.9  \n",
       "4       40.4  \n",
       "\n",
       "[5 rows x 38 columns]"
      ]
     },
     "execution_count": 22,
     "metadata": {},
     "output_type": "execute_result"
    }
   ],
   "source": [
    "# The first few rows of the demographics data set:\n",
    "data['demographics'].head()"
   ]
  },
  {
   "cell_type": "markdown",
   "metadata": {},
   "source": [
    "## _Key Observations:_\n",
    "\n",
    "In this case, the only column that prevents a given __DBN__ from being unique is schoolyear. We only want to select rows where __schoolyear__ is 20112012. This will give us the most recent year of data, and also match our __SAT results__ data."
   ]
  },
  {
   "cell_type": "code",
   "execution_count": 23,
   "metadata": {},
   "outputs": [
    {
     "name": "stdout",
     "output_type": "stream",
     "text": [
      "       DBN                                              Name  schoolyear  \\\n",
      "6   01M015  P.S. 015 ROBERTO CLEMENTE                           20112012   \n",
      "13  01M019  P.S. 019 ASHER LEVY                                 20112012   \n",
      "20  01M020  PS 020 ANNA SILVER                                  20112012   \n",
      "27  01M034  PS 034 FRANKLIN D ROOSEVELT                         20112012   \n",
      "35  01M063  PS 063 WILLIAM MCKINLEY                             20112012   \n",
      "\n",
      "   fl_percent  frl_percent  total_enrollment prek    k grade1 grade2  ...  \\\n",
      "6         NaN         89.4               189   13   31     35     28  ...   \n",
      "13        NaN         61.5               328   32   46     52     54  ...   \n",
      "20        NaN         92.5               626   52  102    121     87  ...   \n",
      "27        NaN         99.7               401   14   34     38     36  ...   \n",
      "35        NaN         78.9               176   18   20     30     21  ...   \n",
      "\n",
      "   black_num black_per hispanic_num hispanic_per white_num white_per male_num  \\\n",
      "6         63      33.3          109         57.7         4       2.1     97.0   \n",
      "13        81      24.7          158         48.2        28       8.5    147.0   \n",
      "20        55       8.8          357         57.0        16       2.6    330.0   \n",
      "27        90      22.4          275         68.6         8       2.0    204.0   \n",
      "35        41      23.3          110         62.5        15       8.5     97.0   \n",
      "\n",
      "   male_per female_num female_per  \n",
      "6      51.3       92.0       48.7  \n",
      "13     44.8      181.0       55.2  \n",
      "20     52.7      296.0       47.3  \n",
      "27     50.9      197.0       49.1  \n",
      "35     55.1       79.0       44.9  \n",
      "\n",
      "[5 rows x 38 columns]\n"
     ]
    }
   ],
   "source": [
    "# Filter demographics, only selecting rows where schoolyear is 20112012.\n",
    "data[\"demographics\"] = data[\"demographics\"][data[\"demographics\"][\"schoolyear\"] == 20112012]\n",
    "\n",
    "# Display the first few rows of data[\"demographics\"] to verify that the filtering worked.\n",
    "print(data[\"demographics\"].head())"
   ]
  },
  {
   "cell_type": "markdown",
   "metadata": {},
   "source": [
    "# <u> Condensing The Graduation Data Set.</u>"
   ]
  },
  {
   "cell_type": "code",
   "execution_count": 24,
   "metadata": {},
   "outputs": [
    {
     "data": {
      "text/html": [
       "<div>\n",
       "<style scoped>\n",
       "    .dataframe tbody tr th:only-of-type {\n",
       "        vertical-align: middle;\n",
       "    }\n",
       "\n",
       "    .dataframe tbody tr th {\n",
       "        vertical-align: top;\n",
       "    }\n",
       "\n",
       "    .dataframe thead th {\n",
       "        text-align: right;\n",
       "    }\n",
       "</style>\n",
       "<table border=\"1\" class=\"dataframe\">\n",
       "  <thead>\n",
       "    <tr style=\"text-align: right;\">\n",
       "      <th></th>\n",
       "      <th>Demographic</th>\n",
       "      <th>DBN</th>\n",
       "      <th>School Name</th>\n",
       "      <th>Cohort</th>\n",
       "      <th>Total Cohort</th>\n",
       "      <th>Total Grads - n</th>\n",
       "      <th>Total Grads - % of cohort</th>\n",
       "      <th>Total Regents - n</th>\n",
       "      <th>Total Regents - % of cohort</th>\n",
       "      <th>Total Regents - % of grads</th>\n",
       "      <th>...</th>\n",
       "      <th>Regents w/o Advanced - n</th>\n",
       "      <th>Regents w/o Advanced - % of cohort</th>\n",
       "      <th>Regents w/o Advanced - % of grads</th>\n",
       "      <th>Local - n</th>\n",
       "      <th>Local - % of cohort</th>\n",
       "      <th>Local - % of grads</th>\n",
       "      <th>Still Enrolled - n</th>\n",
       "      <th>Still Enrolled - % of cohort</th>\n",
       "      <th>Dropped Out - n</th>\n",
       "      <th>Dropped Out - % of cohort</th>\n",
       "    </tr>\n",
       "  </thead>\n",
       "  <tbody>\n",
       "    <tr>\n",
       "      <th>0</th>\n",
       "      <td>Total Cohort</td>\n",
       "      <td>01M292</td>\n",
       "      <td>HENRY STREET SCHOOL FOR INTERNATIONAL</td>\n",
       "      <td>2003</td>\n",
       "      <td>5</td>\n",
       "      <td>s</td>\n",
       "      <td>s</td>\n",
       "      <td>s</td>\n",
       "      <td>s</td>\n",
       "      <td>s</td>\n",
       "      <td>...</td>\n",
       "      <td>s</td>\n",
       "      <td>s</td>\n",
       "      <td>s</td>\n",
       "      <td>s</td>\n",
       "      <td>s</td>\n",
       "      <td>s</td>\n",
       "      <td>s</td>\n",
       "      <td>s</td>\n",
       "      <td>s</td>\n",
       "      <td>s</td>\n",
       "    </tr>\n",
       "    <tr>\n",
       "      <th>1</th>\n",
       "      <td>Total Cohort</td>\n",
       "      <td>01M292</td>\n",
       "      <td>HENRY STREET SCHOOL FOR INTERNATIONAL</td>\n",
       "      <td>2004</td>\n",
       "      <td>55</td>\n",
       "      <td>37</td>\n",
       "      <td>67.3%</td>\n",
       "      <td>17</td>\n",
       "      <td>30.9%</td>\n",
       "      <td>45.9%</td>\n",
       "      <td>...</td>\n",
       "      <td>17</td>\n",
       "      <td>30.9%</td>\n",
       "      <td>45.9%</td>\n",
       "      <td>20</td>\n",
       "      <td>36.4%</td>\n",
       "      <td>54.1%</td>\n",
       "      <td>15</td>\n",
       "      <td>27.3%</td>\n",
       "      <td>3</td>\n",
       "      <td>5.5%</td>\n",
       "    </tr>\n",
       "    <tr>\n",
       "      <th>2</th>\n",
       "      <td>Total Cohort</td>\n",
       "      <td>01M292</td>\n",
       "      <td>HENRY STREET SCHOOL FOR INTERNATIONAL</td>\n",
       "      <td>2005</td>\n",
       "      <td>64</td>\n",
       "      <td>43</td>\n",
       "      <td>67.2%</td>\n",
       "      <td>27</td>\n",
       "      <td>42.2%</td>\n",
       "      <td>62.8%</td>\n",
       "      <td>...</td>\n",
       "      <td>27</td>\n",
       "      <td>42.2%</td>\n",
       "      <td>62.8%</td>\n",
       "      <td>16</td>\n",
       "      <td>25%</td>\n",
       "      <td>37.200000000000003%</td>\n",
       "      <td>9</td>\n",
       "      <td>14.1%</td>\n",
       "      <td>9</td>\n",
       "      <td>14.1%</td>\n",
       "    </tr>\n",
       "    <tr>\n",
       "      <th>3</th>\n",
       "      <td>Total Cohort</td>\n",
       "      <td>01M292</td>\n",
       "      <td>HENRY STREET SCHOOL FOR INTERNATIONAL</td>\n",
       "      <td>2006</td>\n",
       "      <td>78</td>\n",
       "      <td>43</td>\n",
       "      <td>55.1%</td>\n",
       "      <td>36</td>\n",
       "      <td>46.2%</td>\n",
       "      <td>83.7%</td>\n",
       "      <td>...</td>\n",
       "      <td>36</td>\n",
       "      <td>46.2%</td>\n",
       "      <td>83.7%</td>\n",
       "      <td>7</td>\n",
       "      <td>9%</td>\n",
       "      <td>16.3%</td>\n",
       "      <td>16</td>\n",
       "      <td>20.5%</td>\n",
       "      <td>11</td>\n",
       "      <td>14.1%</td>\n",
       "    </tr>\n",
       "    <tr>\n",
       "      <th>4</th>\n",
       "      <td>Total Cohort</td>\n",
       "      <td>01M292</td>\n",
       "      <td>HENRY STREET SCHOOL FOR INTERNATIONAL</td>\n",
       "      <td>2006 Aug</td>\n",
       "      <td>78</td>\n",
       "      <td>44</td>\n",
       "      <td>56.4%</td>\n",
       "      <td>37</td>\n",
       "      <td>47.4%</td>\n",
       "      <td>84.1%</td>\n",
       "      <td>...</td>\n",
       "      <td>37</td>\n",
       "      <td>47.4%</td>\n",
       "      <td>84.1%</td>\n",
       "      <td>7</td>\n",
       "      <td>9%</td>\n",
       "      <td>15.9%</td>\n",
       "      <td>15</td>\n",
       "      <td>19.2%</td>\n",
       "      <td>11</td>\n",
       "      <td>14.1%</td>\n",
       "    </tr>\n",
       "  </tbody>\n",
       "</table>\n",
       "<p>5 rows × 23 columns</p>\n",
       "</div>"
      ],
      "text/plain": [
       "    Demographic     DBN                            School Name    Cohort  \\\n",
       "0  Total Cohort  01M292  HENRY STREET SCHOOL FOR INTERNATIONAL      2003   \n",
       "1  Total Cohort  01M292  HENRY STREET SCHOOL FOR INTERNATIONAL      2004   \n",
       "2  Total Cohort  01M292  HENRY STREET SCHOOL FOR INTERNATIONAL      2005   \n",
       "3  Total Cohort  01M292  HENRY STREET SCHOOL FOR INTERNATIONAL      2006   \n",
       "4  Total Cohort  01M292  HENRY STREET SCHOOL FOR INTERNATIONAL  2006 Aug   \n",
       "\n",
       "   Total Cohort Total Grads - n Total Grads - % of cohort Total Regents - n  \\\n",
       "0             5               s                         s                 s   \n",
       "1            55              37                     67.3%                17   \n",
       "2            64              43                     67.2%                27   \n",
       "3            78              43                     55.1%                36   \n",
       "4            78              44                     56.4%                37   \n",
       "\n",
       "  Total Regents - % of cohort Total Regents - % of grads  ...  \\\n",
       "0                           s                          s  ...   \n",
       "1                       30.9%                      45.9%  ...   \n",
       "2                       42.2%                      62.8%  ...   \n",
       "3                       46.2%                      83.7%  ...   \n",
       "4                       47.4%                      84.1%  ...   \n",
       "\n",
       "  Regents w/o Advanced - n Regents w/o Advanced - % of cohort  \\\n",
       "0                        s                                  s   \n",
       "1                       17                              30.9%   \n",
       "2                       27                              42.2%   \n",
       "3                       36                              46.2%   \n",
       "4                       37                              47.4%   \n",
       "\n",
       "  Regents w/o Advanced - % of grads Local - n Local - % of cohort  \\\n",
       "0                                 s         s                   s   \n",
       "1                             45.9%        20               36.4%   \n",
       "2                             62.8%        16                 25%   \n",
       "3                             83.7%         7                  9%   \n",
       "4                             84.1%         7                  9%   \n",
       "\n",
       "    Local - % of grads Still Enrolled - n Still Enrolled - % of cohort  \\\n",
       "0                    s                  s                            s   \n",
       "1                54.1%                 15                        27.3%   \n",
       "2  37.200000000000003%                  9                        14.1%   \n",
       "3                16.3%                 16                        20.5%   \n",
       "4                15.9%                 15                        19.2%   \n",
       "\n",
       "  Dropped Out - n Dropped Out - % of cohort  \n",
       "0               s                         s  \n",
       "1               3                      5.5%  \n",
       "2               9                     14.1%  \n",
       "3              11                     14.1%  \n",
       "4              11                     14.1%  \n",
       "\n",
       "[5 rows x 23 columns]"
      ]
     },
     "execution_count": 24,
     "metadata": {},
     "output_type": "execute_result"
    }
   ],
   "source": [
    "# The first few rows of the graduation data set:\n",
    "data['graduation'].head()"
   ]
  },
  {
   "cell_type": "markdown",
   "metadata": {},
   "source": [
    "## _Key Observations:_\n",
    "\n",
    "The __Demographic__ and __Cohort__ columns are what prevent __DBN__ from being unique in the __graduation__ data. A __Cohort__ appears to refer to the year the data represents, and the __Demographic__ appears to refer to a specific demographic group. In this case, we want to pick data from the most recent __Cohort__ available, which is __2006__. We also want data from the full cohort, so we'll only pick rows where __Demographic__ is __Total Cohort__."
   ]
  },
  {
   "cell_type": "code",
   "execution_count": 25,
   "metadata": {},
   "outputs": [
    {
     "name": "stdout",
     "output_type": "stream",
     "text": [
      "     Demographic     DBN                            School Name Cohort  \\\n",
      "3   Total Cohort  01M292  HENRY STREET SCHOOL FOR INTERNATIONAL   2006   \n",
      "10  Total Cohort  01M448    UNIVERSITY NEIGHBORHOOD HIGH SCHOOL   2006   \n",
      "17  Total Cohort  01M450             EAST SIDE COMMUNITY SCHOOL   2006   \n",
      "24  Total Cohort  01M509                MARTA VALLE HIGH SCHOOL   2006   \n",
      "31  Total Cohort  01M515  LOWER EAST SIDE PREPARATORY HIGH SCHO   2006   \n",
      "\n",
      "    Total Cohort Total Grads - n Total Grads - % of cohort Total Regents - n  \\\n",
      "3             78              43                     55.1%                36   \n",
      "10           124              53                     42.7%                42   \n",
      "17            90              70                     77.8%                67   \n",
      "24            84              47                       56%                40   \n",
      "31           193             105                     54.4%                91   \n",
      "\n",
      "   Total Regents - % of cohort Total Regents - % of grads  ...  \\\n",
      "3                        46.2%                      83.7%  ...   \n",
      "10                       33.9%                      79.2%  ...   \n",
      "17         74.400000000000006%                      95.7%  ...   \n",
      "24                       47.6%                      85.1%  ...   \n",
      "31                       47.2%                      86.7%  ...   \n",
      "\n",
      "   Regents w/o Advanced - n Regents w/o Advanced - % of cohort  \\\n",
      "3                        36                              46.2%   \n",
      "10                       34                              27.4%   \n",
      "17                       67                74.400000000000006%   \n",
      "24                       23                              27.4%   \n",
      "31                       22                              11.4%   \n",
      "\n",
      "   Regents w/o Advanced - % of grads Local - n Local - % of cohort  \\\n",
      "3                              83.7%         7                  9%   \n",
      "10                             64.2%        11                8.9%   \n",
      "17                             95.7%         3                3.3%   \n",
      "24                             48.9%         7  8.300000000000001%   \n",
      "31                               21%        14                7.3%   \n",
      "\n",
      "   Local - % of grads Still Enrolled - n Still Enrolled - % of cohort  \\\n",
      "3               16.3%                 16                        20.5%   \n",
      "10              20.8%                 46                        37.1%   \n",
      "17               4.3%                 15                        16.7%   \n",
      "24              14.9%                 25                        29.8%   \n",
      "31              13.3%                 53                        27.5%   \n",
      "\n",
      "   Dropped Out - n Dropped Out - % of cohort  \n",
      "3               11                     14.1%  \n",
      "10              20       16.100000000000001%  \n",
      "17               5                      5.6%  \n",
      "24               5                        6%  \n",
      "31              35       18.100000000000001%  \n",
      "\n",
      "[5 rows x 23 columns]\n"
     ]
    }
   ],
   "source": [
    "# Filter graduation, only select rows where the Cohort column equals 2006.\n",
    "data[\"graduation\"] = data[\"graduation\"][data[\"graduation\"][\"Cohort\"] == \"2006\"]\n",
    "\n",
    "# Filter graduation, only select rows where the Demographic column equals Total Cohort.\n",
    "data[\"graduation\"] = data[\"graduation\"][data[\"graduation\"][\"Demographic\"] == \"Total Cohort\"]\n",
    "\n",
    "# Display the first few rows of data[\"graduation\"] to verify that everything worked properly.\n",
    "print(data[\"graduation\"].head())"
   ]
  },
  {
   "cell_type": "markdown",
   "metadata": {},
   "source": [
    "# <u> Converting the AP Test Scores From Strings to Numeric Values.</u>"
   ]
  },
  {
   "cell_type": "markdown",
   "metadata": {},
   "source": [
    "It will be interesting to find out whether AP exam scores are correlated with SAT scores across high schools. To determine this, we'll need to convert the AP exam scores in the __ap_2010__ data set to numeric values first.\n",
    "\n",
    "\n",
    "There are three columns we'll need to convert:\n",
    "\n",
    "- __AP Test Takers__ (note that there's a trailing space in the column name)\n",
    "\n",
    "\n",
    "- __Total Exams Taken__\n",
    "\n",
    "\n",
    "- __Number of Exams with scores 3, 4 or 5__"
   ]
  },
  {
   "cell_type": "code",
   "execution_count": 26,
   "metadata": {},
   "outputs": [
    {
     "name": "stdout",
     "output_type": "stream",
     "text": [
      "DBN                                      object\n",
      "SchoolName                               object\n",
      "AP Test Takers                          float64\n",
      "Total Exams Taken                       float64\n",
      "Number of Exams with scores 3 4 or 5    float64\n",
      "dtype: object\n"
     ]
    }
   ],
   "source": [
    "# Columns to be converted from the ap_2010 data set\n",
    "cols = ['AP Test Takers ', 'Total Exams Taken', 'Number of Exams with scores 3 4 or 5']\n",
    "\n",
    "# Convert each of the columns to numeric values\n",
    "for col in cols:\n",
    "    data[\"ap_2010\"][col] = pd.to_numeric(data[\"ap_2010\"][col], errors=\"coerce\")\n",
    "\n",
    "# Display columns to confirm    \n",
    "print(data[\"ap_2010\"].dtypes)"
   ]
  },
  {
   "cell_type": "markdown",
   "metadata": {},
   "source": [
    "# <u> Combining the data Using different join strategies.</u>"
   ]
  },
  {
   "cell_type": "markdown",
   "metadata": {},
   "source": [
    "Both the __ap_2010__ and the __graduation__ datasets have many missing __DBN__ values, so we'll use a __left join__ when we merge the __sat_results__ data set with them. Since we're using a __left join__, our final dataframe will have all of the same __DBN__ values as the original __sat_results__ dataframe."
   ]
  },
  {
   "cell_type": "markdown",
   "metadata": {},
   "source": [
    "### _1. Performing The Left Joins._"
   ]
  },
  {
   "cell_type": "code",
   "execution_count": 27,
   "metadata": {},
   "outputs": [
    {
     "name": "stdout",
     "output_type": "stream",
     "text": [
      "      DBN                                    SCHOOL NAME  \\\n",
      "0  01M292  HENRY STREET SCHOOL FOR INTERNATIONAL STUDIES   \n",
      "1  01M448            UNIVERSITY NEIGHBORHOOD HIGH SCHOOL   \n",
      "2  01M450                     EAST SIDE COMMUNITY SCHOOL   \n",
      "3  01M458                      FORSYTH SATELLITE ACADEMY   \n",
      "4  01M509                        MARTA VALLE HIGH SCHOOL   \n",
      "\n",
      "  Num of SAT Test Takers  SAT Critical Reading Avg. Score  \\\n",
      "0                     29                            355.0   \n",
      "1                     91                            383.0   \n",
      "2                     70                            377.0   \n",
      "3                      7                            414.0   \n",
      "4                     44                            390.0   \n",
      "\n",
      "   SAT Math Avg. Score  SAT Writing Avg. Score  sat_score  \\\n",
      "0                404.0                   363.0     1122.0   \n",
      "1                423.0                   366.0     1172.0   \n",
      "2                402.0                   370.0     1149.0   \n",
      "3                401.0                   359.0     1174.0   \n",
      "4                433.0                   384.0     1207.0   \n",
      "\n",
      "                     SchoolName  AP Test Takers   Total Exams Taken  ...  \\\n",
      "0                           NaN              NaN                NaN  ...   \n",
      "1  UNIVERSITY NEIGHBORHOOD H.S.             39.0               49.0  ...   \n",
      "2        EAST SIDE COMMUNITY HS             19.0               21.0  ...   \n",
      "3                           NaN              NaN                NaN  ...   \n",
      "4                           NaN              NaN                NaN  ...   \n",
      "\n",
      "   Regents w/o Advanced - n Regents w/o Advanced - % of cohort  \\\n",
      "0                        36                              46.2%   \n",
      "1                        34                              27.4%   \n",
      "2                        67                74.400000000000006%   \n",
      "3                       NaN                                NaN   \n",
      "4                        23                              27.4%   \n",
      "\n",
      "  Regents w/o Advanced - % of grads Local - n  Local - % of cohort  \\\n",
      "0                             83.7%         7                   9%   \n",
      "1                             64.2%        11                 8.9%   \n",
      "2                             95.7%         3                 3.3%   \n",
      "3                               NaN       NaN                  NaN   \n",
      "4                             48.9%         7   8.300000000000001%   \n",
      "\n",
      "  Local - % of grads Still Enrolled - n Still Enrolled - % of cohort  \\\n",
      "0              16.3%                 16                        20.5%   \n",
      "1              20.8%                 46                        37.1%   \n",
      "2               4.3%                 15                        16.7%   \n",
      "3                NaN                NaN                          NaN   \n",
      "4              14.9%                 25                        29.8%   \n",
      "\n",
      "  Dropped Out - n Dropped Out - % of cohort  \n",
      "0              11                     14.1%  \n",
      "1              20       16.100000000000001%  \n",
      "2               5                      5.6%  \n",
      "3             NaN                       NaN  \n",
      "4               5                        6%  \n",
      "\n",
      "[5 rows x 33 columns]\n",
      "(479, 33)\n"
     ]
    }
   ],
   "source": [
    "# Data set we want to merge the others with\n",
    "combined = data[\"sat_results\"]\n",
    "\n",
    "# Merge the ap_2010 dataset into combined.\n",
    "combined = combined.merge(data[\"ap_2010\"], on=\"DBN\", how=\"left\")\n",
    "\n",
    "# Merge the graduation dataset into combined.\n",
    "combined = combined.merge(data[\"graduation\"], on=\"DBN\", how=\"left\")\n",
    "\n",
    "# Display the first few rows of combined to verify that the correct operations occurred.\n",
    "print(combined.head(5))\n",
    "\n",
    "# Check shape of combined and see how many rows currently exist.\n",
    "print(combined.shape)"
   ]
  },
  {
   "cell_type": "markdown",
   "metadata": {},
   "source": [
    "### _2. Performing the Inner Joins._"
   ]
  },
  {
   "cell_type": "markdown",
   "metadata": {},
   "source": [
    "Now that we've performed the __left joins__, we still have to merge __class_size__, __demographics__, __survey__, and __hs_directory__ into __combined__. Since these files contain information that's more valuable to our analysis and also have fewer missing __DBN__ values, we'll use the __inner join__ type."
   ]
  },
  {
   "cell_type": "code",
   "execution_count": 28,
   "metadata": {},
   "outputs": [
    {
     "name": "stdout",
     "output_type": "stream",
     "text": [
      "      DBN                                        SCHOOL NAME  \\\n",
      "0  01M292      HENRY STREET SCHOOL FOR INTERNATIONAL STUDIES   \n",
      "1  01M448                UNIVERSITY NEIGHBORHOOD HIGH SCHOOL   \n",
      "2  01M450                         EAST SIDE COMMUNITY SCHOOL   \n",
      "3  01M509                            MARTA VALLE HIGH SCHOOL   \n",
      "4  01M539  NEW EXPLORATIONS INTO SCIENCE, TECHNOLOGY AND ...   \n",
      "\n",
      "  Num of SAT Test Takers  SAT Critical Reading Avg. Score  \\\n",
      "0                     29                            355.0   \n",
      "1                     91                            383.0   \n",
      "2                     70                            377.0   \n",
      "3                     44                            390.0   \n",
      "4                    159                            522.0   \n",
      "\n",
      "   SAT Math Avg. Score  SAT Writing Avg. Score  sat_score  \\\n",
      "0                404.0                   363.0     1122.0   \n",
      "1                423.0                   366.0     1172.0   \n",
      "2                402.0                   370.0     1149.0   \n",
      "3                433.0                   384.0     1207.0   \n",
      "4                574.0                   525.0     1621.0   \n",
      "\n",
      "                       SchoolName  AP Test Takers   Total Exams Taken  ...  \\\n",
      "0                             NaN              NaN                NaN  ...   \n",
      "1    UNIVERSITY NEIGHBORHOOD H.S.             39.0               49.0  ...   \n",
      "2          EAST SIDE COMMUNITY HS             19.0               21.0  ...   \n",
      "3                             NaN              NaN                NaN  ...   \n",
      "4  NEW EXPLORATIONS SCI,TECH,MATH            255.0              377.0  ...   \n",
      "\n",
      "                                priority04                       priority05  \\\n",
      "0  Then to Manhattan students or residents  Then to New York City residents   \n",
      "1                                      NaN                              NaN   \n",
      "2                                      NaN                              NaN   \n",
      "3                                      NaN                              NaN   \n",
      "4                                      NaN                              NaN   \n",
      "\n",
      "  priority06 priority07  priority08 priority09 priority10  \\\n",
      "0        NaN        NaN         NaN        NaN        NaN   \n",
      "1        NaN        NaN         NaN        NaN        NaN   \n",
      "2        NaN        NaN         NaN        NaN        NaN   \n",
      "3        NaN        NaN         NaN        NaN        NaN   \n",
      "4        NaN        NaN         NaN        NaN        NaN   \n",
      "\n",
      "                                          Location 1        lat        lon  \n",
      "0  220 Henry Street\\nNew York, NY 10002\\n(40.7137...  40.713764 -73.985260  \n",
      "1  200 Monroe Street\\nNew York, NY 10002\\n(40.712...  40.712332 -73.984797  \n",
      "2  420 East 12 Street\\nNew York, NY 10009\\n(40.72...  40.729783 -73.983041  \n",
      "3  145 Stanton Street\\nNew York, NY 10002\\n(40.72...  40.720569 -73.985673  \n",
      "4  111 Columbia Street\\nNew York, NY 10002\\n(40.7...  40.718725 -73.979426  \n",
      "\n",
      "[5 rows x 159 columns]\n",
      "(363, 159)\n"
     ]
    }
   ],
   "source": [
    "# Merge class_size into combined. Then, merge demographics, survey, and hs_directory into combined one by one, in that order.\n",
    "to_merge = [\"class_size\", \"demographics\", \"survey\", \"hs_directory\"]\n",
    "\n",
    "for m in to_merge:\n",
    "    combined = combined.merge(data[m], on=\"DBN\", how=\"inner\")\n",
    "\n",
    "# Display the first few rows of combined to verify that the correct operations occurred.\n",
    "print(combined.head(5))\n",
    "\n",
    "# Display the shape of the dataframe to see how many rows now exist.\n",
    "print(combined.shape)"
   ]
  },
  {
   "cell_type": "markdown",
   "metadata": {},
   "source": [
    "## _Key Observations:_\n",
    "\n",
    "- You may have noticed that the __inner joins__ resulted in __116__ fewer rows in __sat_results__. This is because pandas couldn't find the __DBN__ values that existed in sat_results in the other datasets. While this is worth investigating, we're currently looking for high-level correlations, so we don't need to dive into which __DBNs__ are missing.\n",
    "\n",
    "\n",
    "- You may also have noticed that we now have many columns with null __(NaN)__ values. This is because we chose to do __left joins__, where some columns may not have had data. The dataset also had some missing values to begin with. If we hadn't performed a __left join__, all of the rows with missing data would have been lost in the merge process, which wouldn't have left us with many high schools in our data set."
   ]
  },
  {
   "cell_type": "markdown",
   "metadata": {},
   "source": [
    "# <u> Filling in Missing Values.</u>"
   ]
  },
  {
   "cell_type": "markdown",
   "metadata": {},
   "source": [
    "We'll just fill in the missing values with the overall __mean__ for the column."
   ]
  },
  {
   "cell_type": "code",
   "execution_count": 29,
   "metadata": {},
   "outputs": [
    {
     "name": "stdout",
     "output_type": "stream",
     "text": [
      "      DBN                                        SCHOOL NAME  \\\n",
      "0  01M292      HENRY STREET SCHOOL FOR INTERNATIONAL STUDIES   \n",
      "1  01M448                UNIVERSITY NEIGHBORHOOD HIGH SCHOOL   \n",
      "2  01M450                         EAST SIDE COMMUNITY SCHOOL   \n",
      "3  01M509                            MARTA VALLE HIGH SCHOOL   \n",
      "4  01M539  NEW EXPLORATIONS INTO SCIENCE, TECHNOLOGY AND ...   \n",
      "\n",
      "  Num of SAT Test Takers  SAT Critical Reading Avg. Score  \\\n",
      "0                     29                            355.0   \n",
      "1                     91                            383.0   \n",
      "2                     70                            377.0   \n",
      "3                     44                            390.0   \n",
      "4                    159                            522.0   \n",
      "\n",
      "   SAT Math Avg. Score  SAT Writing Avg. Score  sat_score  \\\n",
      "0                404.0                   363.0     1122.0   \n",
      "1                423.0                   366.0     1172.0   \n",
      "2                402.0                   370.0     1149.0   \n",
      "3                433.0                   384.0     1207.0   \n",
      "4                574.0                   525.0     1621.0   \n",
      "\n",
      "                       SchoolName  AP Test Takers   Total Exams Taken  ...  \\\n",
      "0                               0       129.028846         197.038462  ...   \n",
      "1    UNIVERSITY NEIGHBORHOOD H.S.        39.000000          49.000000  ...   \n",
      "2          EAST SIDE COMMUNITY HS        19.000000          21.000000  ...   \n",
      "3                               0       129.028846         197.038462  ...   \n",
      "4  NEW EXPLORATIONS SCI,TECH,MATH       255.000000         377.000000  ...   \n",
      "\n",
      "                                priority04                       priority05  \\\n",
      "0  Then to Manhattan students or residents  Then to New York City residents   \n",
      "1                                        0                                0   \n",
      "2                                        0                                0   \n",
      "3                                        0                                0   \n",
      "4                                        0                                0   \n",
      "\n",
      "  priority06 priority07  priority08 priority09 priority10  \\\n",
      "0          0          0         0.0        0.0        0.0   \n",
      "1          0          0         0.0        0.0        0.0   \n",
      "2          0          0         0.0        0.0        0.0   \n",
      "3          0          0         0.0        0.0        0.0   \n",
      "4          0          0         0.0        0.0        0.0   \n",
      "\n",
      "                                          Location 1        lat        lon  \n",
      "0  220 Henry Street\\nNew York, NY 10002\\n(40.7137...  40.713764 -73.985260  \n",
      "1  200 Monroe Street\\nNew York, NY 10002\\n(40.712...  40.712332 -73.984797  \n",
      "2  420 East 12 Street\\nNew York, NY 10009\\n(40.72...  40.729783 -73.983041  \n",
      "3  145 Stanton Street\\nNew York, NY 10002\\n(40.72...  40.720569 -73.985673  \n",
      "4  111 Columbia Street\\nNew York, NY 10002\\n(40.7...  40.718725 -73.979426  \n",
      "\n",
      "[5 rows x 159 columns]\n"
     ]
    },
    {
     "name": "stderr",
     "output_type": "stream",
     "text": [
      "C:\\Anaconda\\lib\\site-packages\\ipykernel_launcher.py:3: FutureWarning: Dropping of nuisance columns in DataFrame reductions (with 'numeric_only=None') is deprecated; in a future version this will raise TypeError.  Select only valid columns before calling the reduction.\n",
      "  This is separate from the ipykernel package so we can avoid doing imports until\n"
     ]
    }
   ],
   "source": [
    "# Calculate the means of all of the columns in combined\n",
    "# Fill in any missing values in combined with the means of the respective columns\n",
    "combined = combined.fillna(combined.mean())\n",
    "\n",
    "# Fill in any remaining missing values in combined with 0\n",
    "combined = combined.fillna(0)\n",
    "\n",
    "# Display the first few rows of combined to verify that the correct operations occurred.\n",
    "print(combined.head(5))"
   ]
  },
  {
   "cell_type": "markdown",
   "metadata": {},
   "source": [
    "# <u> Adding a School District Column for Mapping.</u>"
   ]
  },
  {
   "cell_type": "markdown",
   "metadata": {},
   "source": [
    "Mapping the statistics out on a school district level might be an interesting way to analyze them. Adding a column to the dataset that specifies the school district helps us accomplish this.\n",
    "\n",
    "The school district is just the first two characters of the __DBN__. We can apply a function over the __DBN__ column of __combined__ that pulls out the first two letters."
   ]
  },
  {
   "cell_type": "code",
   "execution_count": 30,
   "metadata": {},
   "outputs": [
    {
     "name": "stdout",
     "output_type": "stream",
     "text": [
      "0    01\n",
      "1    01\n",
      "2    01\n",
      "3    01\n",
      "4    01\n",
      "Name: school_dist, dtype: object\n"
     ]
    }
   ],
   "source": [
    "# Create Custom function\n",
    "def get_first_two_chars(dbn):\n",
    "    \"\"\"extracts the first two characters of a string and returns them.\"\"\"\n",
    "    return dbn[0:2]\n",
    "\n",
    "# Apply the function to the DBN column of combined\n",
    "combined[\"school_dist\"] = combined[\"DBN\"].apply(get_first_two_chars)\n",
    "\n",
    "# Display the first few items in the school_dist column of combined to verify the results.\n",
    "print(combined[\"school_dist\"].head())"
   ]
  },
  {
   "cell_type": "markdown",
   "metadata": {},
   "source": [
    "# <h1><center> D. Analyzing and Visualizing the Data.</center></h1>"
   ]
  },
  {
   "cell_type": "markdown",
   "metadata": {},
   "source": [
    "The first thing we'll do is find any correlations between columns and __sat_score__. This helps us determine which columns might be interesting to plot out or investigate further. Afterwards, we'll perform more analysis and create maps using the columns we've identified."
   ]
  },
  {
   "cell_type": "markdown",
   "metadata": {},
   "source": [
    "# <u> Finding Correlations with r Value.</u>"
   ]
  },
  {
   "cell_type": "markdown",
   "metadata": {},
   "source": [
    "Correlations tell us how closely related two columns are. We'll be using the __r value__, also called __Pearson's correlation coefficient__, to measure how closely two sequences of numbers are correlated."
   ]
  },
  {
   "cell_type": "code",
   "execution_count": 31,
   "metadata": {},
   "outputs": [
    {
     "name": "stdout",
     "output_type": "stream",
     "text": [
      "SAT Critical Reading Avg. Score         0.986820\n",
      "SAT Math Avg. Score                     0.972643\n",
      "SAT Writing Avg. Score                  0.987771\n",
      "sat_score                               1.000000\n",
      "AP Test Takers                          0.523140\n",
      "Total Exams Taken                       0.514333\n",
      "Number of Exams with scores 3 4 or 5    0.463245\n",
      "Total Cohort                            0.325144\n",
      "CSD                                     0.042948\n",
      "NUMBER OF STUDENTS / SEATS FILLED       0.394626\n",
      "NUMBER OF SECTIONS                      0.362673\n",
      "AVERAGE CLASS SIZE                      0.381014\n",
      "SIZE OF SMALLEST CLASS                  0.249949\n",
      "SIZE OF LARGEST CLASS                   0.314434\n",
      "SCHOOLWIDE PUPIL-TEACHER RATIO               NaN\n",
      "schoolyear                                   NaN\n",
      "fl_percent                                   NaN\n",
      "frl_percent                            -0.722225\n",
      "total_enrollment                        0.367857\n",
      "ell_num                                -0.153778\n",
      "ell_percent                            -0.398750\n",
      "sped_num                                0.034933\n",
      "sped_percent                           -0.448170\n",
      "asian_num                               0.475445\n",
      "asian_per                               0.570730\n",
      "black_num                               0.027979\n",
      "black_per                              -0.284139\n",
      "hispanic_num                            0.025744\n",
      "hispanic_per                           -0.396985\n",
      "white_num                               0.449559\n",
      "white_per                               0.620718\n",
      "male_num                                0.325520\n",
      "male_per                               -0.112062\n",
      "female_num                              0.388631\n",
      "female_per                              0.112108\n",
      "rr_s                                    0.232199\n",
      "rr_t                                   -0.023386\n",
      "rr_p                                    0.047925\n",
      "N_s                                     0.423463\n",
      "N_t                                     0.291463\n",
      "N_p                                     0.421530\n",
      "saf_p_11                                0.122913\n",
      "com_p_11                               -0.115073\n",
      "eng_p_11                                0.020254\n",
      "aca_p_11                                0.035155\n",
      "saf_t_11                                0.313810\n",
      "com_t_11                                0.082419\n",
      "eng_t_11                                0.036906\n",
      "aca_t_11                                0.132348\n",
      "saf_s_11                                0.337639\n",
      "com_s_11                                0.187370\n",
      "eng_s_11                                0.213822\n",
      "aca_s_11                                0.339435\n",
      "saf_tot_11                              0.318753\n",
      "com_tot_11                              0.077310\n",
      "eng_tot_11                              0.100102\n",
      "aca_tot_11                              0.190966\n",
      "grade_span_max                               NaN\n",
      "expgrade_span_max                            NaN\n",
      "zip                                    -0.063977\n",
      "total_students                          0.407827\n",
      "number_programs                         0.117012\n",
      "priority08                                   NaN\n",
      "priority09                                   NaN\n",
      "priority10                                   NaN\n",
      "lat                                    -0.121029\n",
      "lon                                    -0.132222\n"
     ]
    }
   ],
   "source": [
    "# Find all possible correlations.\n",
    "correlations = combined.corr()\n",
    "\n",
    "# Filter correlations so that it only shows correlations for the column sat_score.\n",
    "correlations = correlations[\"sat_score\"]\n",
    "\n",
    "# Display all of the rows in correlations and examine them.\n",
    "print(correlations.to_string())"
   ]
  },
  {
   "cell_type": "markdown",
   "metadata": {},
   "source": [
    "## _Key Observations:_\n",
    "\n",
    "\n",
    "- Unsurprisingly, __SAT Critical Reading Avg. Score__, __SAT Math Avg. Score__, __SAT Writing Avg. Score__, and __sat_score__ are strongly correlated with __sat_score__.\n",
    "\n",
    "<br>\n",
    "\n",
    "\n",
    "\n",
    "- __total_enrollment__ has a strong positive correlation with __sat_score__. This is surprising because we'd expect smaller schools where students receive more attention to have higher scores. However, it looks like the opposite is true -- larger schools tend to do better on the SAT.\n",
    "    - Other columns that are proxies for enrollment correlate similarly. These include __total_students__, __N_s__, __N_p__, __N_t__, __AP Test Takers__, __Total Exams Taken__, and __NUMBER OF SECTIONS__.\n",
    "\n",
    "\n",
    "<br>\n",
    "\n",
    "- Both the percentage of females __(female_per)__ and number of females __(female_num)__ at a school correlate positively with SAT score, whereas the percentage of males __(male_per)__ and the number of males __(male_num)__ correlate negatively. This could indicate that women do better on the SAT than men.\n",
    "\n",
    "\n",
    "<br>\n",
    "\n",
    "- Teacher and student ratings of school safety __(saf_t_11, and saf_s_11)__ correlate with __sat_score__.\n",
    "\n",
    "\n",
    "<br>\n",
    "\n",
    "- Student ratings of school academic standards __(aca_s_11)__ correlate with __sat_score__, but this does not hold for ratings from teachers and parents (aca_p_11 and aca_t_11).\n",
    "\n",
    "<br>\n",
    "\n",
    "- There is significant racial inequality in SAT scores __(white_per, asian_per, black_per, hispanic_per)__.\n",
    "\n",
    "<br>\n",
    "\n",
    "- The percentage of English language learners at the school __(ell_percent, frl_percent)__ has a strong negative correlation with SAT scores.\n",
    "\n",
    "\n",
    "<br>\n",
    "\n",
    "\n",
    "\n",
    "Since enrollment seems to have such a strong correlation, let's make a scatterplot of __total_enrollment__ vs __sat_score__. Each point in the scatterplot represents a high school, so we'll be able to see if there are any interesting patterns."
   ]
  },
  {
   "cell_type": "markdown",
   "metadata": {},
   "source": [
    "# <u> Plotting Enrollment.</u>"
   ]
  },
  {
   "cell_type": "code",
   "execution_count": 32,
   "metadata": {},
   "outputs": [
    {
     "data": {
      "image/png": "[encoded data removed]",
      "text/plain": [
       "<Figure size 720x576 with 1 Axes>"
      ]
     },
     "metadata": {
      "needs_background": "light"
     },
     "output_type": "display_data"
    }
   ],
   "source": [
    "# Create a scatterplot.\n",
    "combined.plot.scatter(x='total_enrollment', y='sat_score', fontsize=14, figsize=(10,8))\n",
    "plt.xlabel('total_enrollment', fontsize=16, fontweight='bold')\n",
    "plt.ylabel('sat_score', fontsize=16, fontweight='bold')\n",
    "plt.title(\"Total_enrollment vs Sat_score\", fontsize=28, fontweight='bold', fontname='Times New Roman')\n",
    "plt.show()"
   ]
  },
  {
   "cell_type": "markdown",
   "metadata": {},
   "source": [
    "## _Key Observations:_\n",
    "\n",
    "Judging from the plot above, it doesn't appear there's a strong correlation between __sat_score__ and __total_enrollment__. If there was a strong correlation, we'd expect all of the points to line up. \n",
    "\n",
    "<br>\n",
    "\n",
    "Instead, there's a large cluster of schools and then a few others going off in three different directions.\n",
    "\n",
    "<br>\n",
    "\n",
    "However, there's an interesting cluster of points at the bottom left where __total_enrollment__ and __sat_score__ are both low.\n",
    "\n",
    "<br>\n",
    "\n",
    "This cluster may be what's making the __r value__ so high. It's worth extracting the names of the schools in this cluster so we can research them further."
   ]
  },
  {
   "cell_type": "markdown",
   "metadata": {},
   "source": [
    "# <u> Exploring Schools with low SAT Scores and Enrollment.</u>"
   ]
  },
  {
   "cell_type": "code",
   "execution_count": 33,
   "metadata": {},
   "outputs": [
    {
     "name": "stdout",
     "output_type": "stream",
     "text": [
      "91       INTERNATIONAL COMMUNITY HIGH SCHOOL\n",
      "125                                        0\n",
      "126          BRONX INTERNATIONAL HIGH SCHOOL\n",
      "139    KINGSBRIDGE INTERNATIONAL HIGH SCHOOL\n",
      "141    INTERNATIONAL SCHOOL FOR LIBERAL ARTS\n",
      "176                                        0\n",
      "179            HIGH SCHOOL OF WORLD CULTURES\n",
      "188       BROOKLYN INTERNATIONAL HIGH SCHOOL\n",
      "225    INTERNATIONAL HIGH SCHOOL AT PROSPECT\n",
      "237               IT TAKES A VILLAGE ACADEMY\n",
      "253                MULTICULTURAL HIGH SCHOOL\n",
      "286    PAN AMERICAN INTERNATIONAL HIGH SCHOO\n",
      "Name: School Name, dtype: object\n"
     ]
    }
   ],
   "source": [
    "# Filter the combined dataframe to keep only those rows where \"total_enrollment\" is under 1000.\n",
    "low_enrollment = combined[combined[\"total_enrollment\"] < 1000]\n",
    "\n",
    "# Filter the combined dataframe to keep only those rows where \"sat_score\" is under 1000.\n",
    "low_enrollment = low_enrollment[low_enrollment[\"sat_score\"] < 1000]\n",
    "\n",
    "# Display all of the items in the School Name column of low_enrollment.\n",
    "print(low_enrollment[\"School Name\"])"
   ]
  },
  {
   "cell_type": "markdown",
   "metadata": {},
   "source": [
    "## _Key Observations:_\n",
    "\n",
    "Research through __google__ and __wikipedia__ revealed that most of the high schools with low total enrollment and low SAT scores have high percentages of English language learners.\n",
    "\n",
    "<br>\n",
    "\n",
    "This indicates that it's actually __ell_percent__ that correlates strongly with __sat_score__, rather than __total_enrollment__. To explore this relationship further, let's plot out __ell_percent__ vs __sat_score__."
   ]
  },
  {
   "cell_type": "markdown",
   "metadata": {},
   "source": [
    "# <u> Plotting Language Learning Percentage.</u>"
   ]
  },
  {
   "cell_type": "code",
   "execution_count": 34,
   "metadata": {},
   "outputs": [
    {
     "data": {
      "image/png": "[encoded data removed]",
      "text/plain": [
       "<Figure size 720x576 with 1 Axes>"
      ]
     },
     "metadata": {
      "needs_background": "light"
     },
     "output_type": "display_data"
    }
   ],
   "source": [
    "# scatterplot of ell_percent versus sat_score.\n",
    "combined.plot.scatter(x='ell_percent', y='sat_score', fontsize=14, figsize=(10,8))\n",
    "plt.xlabel('ell_percent', fontsize=16, fontweight='bold')\n",
    "plt.ylabel('sat_score', fontsize=16, fontweight='bold')\n",
    "plt.title(\"Ell_percent vs Sat_score\", fontsize=28, fontweight='bold', fontname='Times New Roman')\n",
    "plt.show()"
   ]
  },
  {
   "cell_type": "markdown",
   "metadata": {},
   "source": [
    "# <u> Calculating District-Level Statistics.</u>"
   ]
  },
  {
   "cell_type": "markdown",
   "metadata": {},
   "source": [
    "Aggregating by district, enables us to understand how __ell_percent__ varies district-by-district instead of the unintelligibly granular school-by-school variation."
   ]
  },
  {
   "cell_type": "code",
   "execution_count": 35,
   "metadata": {},
   "outputs": [
    {
     "name": "stdout",
     "output_type": "stream",
     "text": [
      "  school_dist  SAT Critical Reading Avg. Score  SAT Math Avg. Score  \\\n",
      "0          01                       441.833333           473.333333   \n",
      "1          02                       426.619092           444.186256   \n",
      "2          03                       428.529851           437.997512   \n",
      "3          04                       402.142857           416.285714   \n",
      "4          05                       427.159915           438.236674   \n",
      "\n",
      "   SAT Writing Avg. Score    sat_score  AP Test Takers   Total Exams Taken  \\\n",
      "0              439.333333  1354.500000       116.681090         173.019231   \n",
      "1              424.832836  1295.638184       128.908454         201.516827   \n",
      "2              426.915672  1293.443035       156.183494         244.522436   \n",
      "3              405.714286  1224.142857       129.016484         183.879121   \n",
      "4              419.666098  1285.062687        85.722527         115.725275   \n",
      "\n",
      "   Number of Exams with scores 3 4 or 5  Total Cohort  CSD  ...  \\\n",
      "0                            135.800000     93.500000  1.0  ...   \n",
      "1                            157.495833    158.647849  2.0  ...   \n",
      "2                            193.087500    183.384409  3.0  ...   \n",
      "3                            151.035714    113.857143  4.0  ...   \n",
      "4                            142.464286    143.677419  5.0  ...   \n",
      "\n",
      "   grade_span_max  expgrade_span_max           zip  total_students  \\\n",
      "0            12.0               12.0  10003.166667      659.500000   \n",
      "1            12.0               12.0  10023.770833      621.395833   \n",
      "2            12.0               12.0  10023.750000      717.916667   \n",
      "3            12.0               12.0  10029.857143      580.857143   \n",
      "4            12.0               12.0  10030.142857      609.857143   \n",
      "\n",
      "   number_programs  priority08  priority09  priority10        lat        lon  \n",
      "0         1.333333         0.0         0.0         0.0  40.719022 -73.982377  \n",
      "1         1.416667         0.0         0.0         0.0  40.739699 -73.991386  \n",
      "2         2.000000         0.0         0.0         0.0  40.781574 -73.977370  \n",
      "3         1.142857         0.0         0.0         0.0  40.793449 -73.943215  \n",
      "4         1.142857         0.0         0.0         0.0  40.817077 -73.949251  \n",
      "\n",
      "[5 rows x 68 columns]\n"
     ]
    }
   ],
   "source": [
    "# Find the average values for each column for each school_dist in combined.\n",
    "districts = combined.groupby(\"school_dist\").agg(np.mean)\n",
    "\n",
    "# Reset the index of districts, making school_dist a column again.\n",
    "districts.reset_index(inplace=True)\n",
    "\n",
    "# Display the first few rows of districts to verify that everything went okay.\n",
    "print(districts.head())"
   ]
  },
  {
   "cell_type": "markdown",
   "metadata": {},
   "source": [
    "# <u> Exploring Safety and SAT Scores.</u>"
   ]
  },
  {
   "cell_type": "code",
   "execution_count": 36,
   "metadata": {},
   "outputs": [
    {
     "name": "stdout",
     "output_type": "stream",
     "text": [
      "SAT Critical Reading Avg. Score         0.986820\n",
      "SAT Math Avg. Score                     0.972643\n",
      "SAT Writing Avg. Score                  0.987771\n",
      "sat_score                               1.000000\n",
      "AP Test Takers                          0.523140\n",
      "Total Exams Taken                       0.514333\n",
      "Number of Exams with scores 3 4 or 5    0.463245\n",
      "Total Cohort                            0.325144\n",
      "CSD                                     0.042948\n",
      "NUMBER OF STUDENTS / SEATS FILLED       0.394626\n",
      "NUMBER OF SECTIONS                      0.362673\n",
      "AVERAGE CLASS SIZE                      0.381014\n",
      "SIZE OF SMALLEST CLASS                  0.249949\n",
      "SIZE OF LARGEST CLASS                   0.314434\n",
      "SCHOOLWIDE PUPIL-TEACHER RATIO               NaN\n",
      "schoolyear                                   NaN\n",
      "fl_percent                                   NaN\n",
      "frl_percent                            -0.722225\n",
      "total_enrollment                        0.367857\n",
      "ell_num                                -0.153778\n",
      "ell_percent                            -0.398750\n",
      "sped_num                                0.034933\n",
      "sped_percent                           -0.448170\n",
      "asian_num                               0.475445\n",
      "asian_per                               0.570730\n",
      "black_num                               0.027979\n",
      "black_per                              -0.284139\n",
      "hispanic_num                            0.025744\n",
      "hispanic_per                           -0.396985\n",
      "white_num                               0.449559\n",
      "white_per                               0.620718\n",
      "male_num                                0.325520\n",
      "male_per                               -0.112062\n",
      "female_num                              0.388631\n",
      "female_per                              0.112108\n",
      "rr_s                                    0.232199\n",
      "rr_t                                   -0.023386\n",
      "rr_p                                    0.047925\n",
      "N_s                                     0.423463\n",
      "N_t                                     0.291463\n",
      "N_p                                     0.421530\n",
      "saf_p_11                                0.122913\n",
      "com_p_11                               -0.115073\n",
      "eng_p_11                                0.020254\n",
      "aca_p_11                                0.035155\n",
      "saf_t_11                                0.313810\n",
      "com_t_11                                0.082419\n",
      "eng_t_11                                0.036906\n",
      "aca_t_11                                0.132348\n",
      "saf_s_11                                0.337639\n",
      "com_s_11                                0.187370\n",
      "eng_s_11                                0.213822\n",
      "aca_s_11                                0.339435\n",
      "saf_tot_11                              0.318753\n",
      "com_tot_11                              0.077310\n",
      "eng_tot_11                              0.100102\n",
      "aca_tot_11                              0.190966\n",
      "grade_span_max                               NaN\n",
      "expgrade_span_max                            NaN\n",
      "zip                                    -0.063977\n",
      "total_students                          0.407827\n",
      "number_programs                         0.117012\n",
      "priority08                                   NaN\n",
      "priority09                                   NaN\n",
      "priority10                                   NaN\n",
      "lat                                    -0.121029\n",
      "lon                                    -0.132222\n"
     ]
    }
   ],
   "source": [
    "# \n",
    "print(correlations.to_string())"
   ]
  },
  {
   "cell_type": "markdown",
   "metadata": {},
   "source": [
    "You may have noticed that __saf_t_11__ and __saf_s_11__, which measure how teachers and students perceive safety at school, correlated highly with __sat_score__."
   ]
  },
  {
   "cell_type": "markdown",
   "metadata": {},
   "source": [
    "### _Investigate safety scores._"
   ]
  },
  {
   "cell_type": "code",
   "execution_count": 37,
   "metadata": {},
   "outputs": [
    {
     "data": {
      "image/png": "[encoded data removed]",
      "text/plain": [
       "<Figure size 720x576 with 1 Axes>"
      ]
     },
     "metadata": {
      "needs_background": "light"
     },
     "output_type": "display_data"
    }
   ],
   "source": [
    "# scatterplot of safety_score(saf_s_11) vs sat_score.\n",
    "combined.plot.scatter(x='saf_s_11', y='sat_score', fontsize=14, figsize=(10,8))\n",
    "plt.xlabel('saf_s_11', fontsize=16, fontweight='bold')\n",
    "plt.ylabel('sat_score', fontsize=16, fontweight='bold')\n",
    "plt.title(\"Saf_s_11 vs Sat_score\", fontsize=28, fontweight='bold', fontname='Times New Roman')\n",
    "plt.show()"
   ]
  },
  {
   "cell_type": "markdown",
   "metadata": {},
   "source": [
    "### _Compute Safety Scores for each borough._\n",
    "\n",
    "__[Borough](https://www.google.com/search?q=what+is+a+borough&oq=what+is+a+borough&aqs=chrome..69i57.4236j0j1&sourceid=chrome&ie=UTF-8)__  is a town or district which is an administrative unit. You can find information about the __5 boroughs of NewYork__ [here](https://www.nycgo.com/neighborhoods-boroughs/about-nyc-five-boroughs)"
   ]
  },
  {
   "cell_type": "code",
   "execution_count": 38,
   "metadata": {},
   "outputs": [
    {
     "name": "stdout",
     "output_type": "stream",
     "text": [
      "boro\n",
      "Bronx            6.606577\n",
      "Brooklyn         6.370755\n",
      "Manhattan        6.831370\n",
      "Queens           6.721875\n",
      "Staten Island    6.530000\n",
      "Name: saf_s_11, dtype: float64\n"
     ]
    }
   ],
   "source": [
    "# Find the average safety score for each column for each borough in combined.\n",
    "boro = combined.groupby(\"boro\").agg(np.mean)[\"saf_s_11\"]\n",
    "\n",
    "# Display boro.\n",
    "print(boro)"
   ]
  },
  {
   "cell_type": "markdown",
   "metadata": {},
   "source": [
    "## _Key Observations:_\n",
    "\n",
    "- Looks like __Manhattan(6.83)__ and __Queens(6.72)__ have a high saftey scores.\n",
    "\n",
    "\n",
    "<br>\n",
    "\n",
    "- While __Brooklyn(6.37)__ has a low safety score."
   ]
  },
  {
   "cell_type": "markdown",
   "metadata": {},
   "source": [
    "# <u> Exploring Race and SAT Scores.</u>"
   ]
  },
  {
   "cell_type": "markdown",
   "metadata": {},
   "source": [
    "There are a few columns that indicate the percentage of each race at a given school:\n",
    "\n",
    "   - __white_per__\n",
    "              \n",
    "            \n",
    "   - __asian_per__\n",
    "           \n",
    "            \n",
    "   - __black_per__\n",
    "         \n",
    "            \n",
    "   - __hispanic_per__\n",
    "             \n",
    "             \n",
    "By plotting out the __correlations__ between these __columns__ and __sat_score__, we can determine whether there are any __racial differences in SAT performance__."
   ]
  },
  {
   "cell_type": "markdown",
   "metadata": {},
   "source": [
    "### _1. Investigate Racial Differences in SAT scores._"
   ]
  },
  {
   "cell_type": "code",
   "execution_count": 39,
   "metadata": {},
   "outputs": [
    {
     "data": {
      "image/png": "[encoded data removed]",
      "text/plain": [
       "<Figure size 720x576 with 1 Axes>"
      ]
     },
     "metadata": {
      "needs_background": "light"
     },
     "output_type": "display_data"
    }
   ],
   "source": [
    "# Create a bar plot of the correlations between sat_score and the race columns.\n",
    "combined.corr()[\"sat_score\"][[\"white_per\", \"asian_per\", \"black_per\", \"hispanic_per\"]].plot.bar(figsize=(10,8), fontsize=13)\n",
    "plt.title(\"Race vs Sat_score\", fontsize=28, fontweight='bold', fontname='Times New Roman')\n",
    "plt.xlabel('race', fontsize=15, fontweight='bold')\n",
    "plt.ylabel('sat_score', fontsize=15, fontweight='bold')\n",
    "plt.xticks(rotation=0)\n",
    "plt.show()\n"
   ]
  },
  {
   "cell_type": "markdown",
   "metadata": {},
   "source": [
    "## _Key Observations:_\n",
    "\n",
    "- The percentage of __whites__ at the school has a positive correlation with SAT scores.\n",
    "\n",
    "<br>\n",
    "\n",
    "- The percentage of __Asians__ at the school has a positive correlation with SAT scores.\n",
    "\n",
    "<br>\n",
    "\n",
    "- The percentage of __blacks__ at the school has a negative correlation with SAT scores.\n",
    "\n",
    "<br>\n",
    "\n",
    "- The percentage of __hispanics__ at the school has a negative correlation with SAT scores.\n",
    "\n",
    "<br>\n",
    "\n",
    "- This could indicate that __race__ does not correlate with SAT scores.\n",
    "\n",
    "<br>\n",
    "\n",
    "- This could also indicate that the SAT is an unfair test that is unfair to __blacks__ and __hispanics__.\n",
    "\n",
    "<br>"
   ]
  },
  {
   "cell_type": "markdown",
   "metadata": {},
   "source": [
    "###  _2. Explore schools with low SAT scores and high values for hispanic_per._\n",
    "\n"
   ]
  },
  {
   "cell_type": "code",
   "execution_count": 40,
   "metadata": {},
   "outputs": [
    {
     "data": {
      "image/png": "[encoded data removed]",
      "text/plain": [
       "<Figure size 720x576 with 1 Axes>"
      ]
     },
     "metadata": {
      "needs_background": "light"
     },
     "output_type": "display_data"
    }
   ],
   "source": [
    "# Scatter plot for hispanic_per vs sat_score.\n",
    "combined.plot.scatter(x='hispanic_per', y='sat_score', fontsize=14, figsize=(10,8))\n",
    "plt.xlabel('hispanic_per', fontsize=16, fontweight='bold')\n",
    "plt.ylabel('sat_score', fontsize=16, fontweight='bold')\n",
    "plt.title(\"hispanic_per vs Sat_score\", fontsize=28, fontweight='bold', fontname='Times New Roman')\n",
    "plt.show()"
   ]
  },
  {
   "cell_type": "markdown",
   "metadata": {},
   "source": [
    "## _Key Observations:_\n",
    "\n",
    "- This plot shows that the schools with __low SAT scores and high values for hispanic_per__ have a higher percentage of __hispanics__ at the school.\n",
    "\n",
    "<br>\n",
    "\n",
    "- This plot also shows that __hispanic_per__ and __sat_score__ correlate in a negative way.\n",
    "\n",
    "<br>\n",
    "\n",
    "- This could indicate that there is __a higher percentage of hispanics at schools that have a lower SAT score__.\n",
    "\n",
    "<br>"
   ]
  },
  {
   "cell_type": "markdown",
   "metadata": {},
   "source": [
    "### _3. Research any schools with a hispanic_per greater than 95%._"
   ]
  },
  {
   "cell_type": "code",
   "execution_count": 41,
   "metadata": {},
   "outputs": [
    {
     "name": "stdout",
     "output_type": "stream",
     "text": [
      "44                         MANHATTAN BRIDGES HIGH SCHOOL\n",
      "82      WASHINGTON HEIGHTS EXPEDITIONARY LEARNING SCHOOL\n",
      "89     GREGORIO LUPERON HIGH SCHOOL FOR SCIENCE AND M...\n",
      "125                  ACADEMY FOR LANGUAGE AND TECHNOLOGY\n",
      "141                INTERNATIONAL SCHOOL FOR LIBERAL ARTS\n",
      "176     PAN AMERICAN INTERNATIONAL HIGH SCHOOL AT MONROE\n",
      "253                            MULTICULTURAL HIGH SCHOOL\n",
      "286               PAN AMERICAN INTERNATIONAL HIGH SCHOOL\n",
      "Name: SCHOOL NAME, dtype: object\n"
     ]
    }
   ],
   "source": [
    "# What are the names of the schools that have a hispanic_per greater than 95%?\n",
    "print(combined[combined[\"hispanic_per\"] > 95][\"SCHOOL NAME\"])"
   ]
  },
  {
   "cell_type": "markdown",
   "metadata": {},
   "source": [
    "## _Key Observations:_\n",
    "\n",
    "based on research on google the above schools have a hispanic per greater than 95% because they are learning english, hence the low sat scores\n",
    "\n",
    "- These schools are __EL schools__.\n",
    "\n",
    "<br>\n",
    "\n",
    "- __EL schools__ are schools that receive extra funding, and are intended for students who are learning English.\n",
    "\n",
    "<br>\n",
    "\n",
    "- This indicates that __there is a negative correlation between SAT scores and hispanic_per__. This means that __higher hispanic_per__ values are related to __lower SAT scores__.\n",
    "\n",
    "<br>\n",
    "\n",
    "- This could mean that __EL schools have a higher percentage of hispanics__, or that these schools are __more likely to have students who are recent immigrants__, who have a difficult time learning English.\n",
    "\n",
    "<br>\n",
    "\n",
    "- The column __ell_percent__ indicates the percentage of students that are learning English in a given school.\n",
    "\n",
    "<br>\n",
    "\n",
    "- This might be a more important factor in __SAT scores__ than __hispanic_per__.\n"
   ]
  },
  {
   "cell_type": "markdown",
   "metadata": {},
   "source": [
    "### _4. Research any schools with a hispanic_per less than 10% and an average SAT score greater than 1800._"
   ]
  },
  {
   "cell_type": "code",
   "execution_count": 42,
   "metadata": {},
   "outputs": [
    {
     "name": "stdout",
     "output_type": "stream",
     "text": [
      "37                                STUYVESANT HIGH SCHOOL\n",
      "151                         BRONX HIGH SCHOOL OF SCIENCE\n",
      "187                       BROOKLYN TECHNICAL HIGH SCHOOL\n",
      "327    QUEENS HIGH SCHOOL FOR THE SCIENCES AT YORK CO...\n",
      "356                  STATEN ISLAND TECHNICAL HIGH SCHOOL\n",
      "Name: SCHOOL NAME, dtype: object\n"
     ]
    }
   ],
   "source": [
    "# Research any schools with a hispanic_per less than 10% and an average SAT score greater than 1800.\n",
    "print(combined[(combined[\"hispanic_per\"] < 10) & (combined[\"sat_score\"] > 1800)][\"SCHOOL NAME\"])\n"
   ]
  },
  {
   "cell_type": "markdown",
   "metadata": {},
   "source": [
    "## _Key Observations:_\n",
    "- These schools are __specialized high schools__, which are schools that receive extra funding and typically have high academic standards.\n",
    "\n",
    "<br>\n",
    "\n",
    "- This indicates that __many of the high SAT takers are coming from specialized high schools__.\n",
    "\n",
    "<br>\n",
    "\n",
    "- This could mean that __specialized high schools__ have a __lower percentage of hispanics__, but the __hispanic_per__ is low because they have a very high number of __high scoring__ students.\n",
    "\n",
    "<br>\n",
    "\n",
    "\n",
    "- This means that __high scoring__ students are __more likely to be recent immigrants__, who tend to be more poor and have less English language skills.\n",
    "\n",
    "<br>\n",
    "\n",
    "- This would indicate that the __low hispanic_per__ is __not correlated__ with SAT scores, but instead is __correlated__ with a high number of recent immigrants.\n",
    "\n",
    "<br>\n",
    "\n",
    "- This could be the reason that the __specialized high schools__ have such a low hispanic_per, but have such high SAT scores.\n"
   ]
  },
  {
   "cell_type": "markdown",
   "metadata": {},
   "source": [
    "# <u>Explore Gender and SAT Scores. </u>"
   ]
  },
  {
   "cell_type": "markdown",
   "metadata": {},
   "source": [
    "There are two columns that indicate the percentage of each gender at a school:\n",
    "\n",
    "  - __male_per__\n",
    "  \n",
    "  \n",
    "  - __female_per__\n",
    "  \n",
    "  \n",
    "We can plot out the correlations between each percentage and __sat_score__."
   ]
  },
  {
   "cell_type": "markdown",
   "metadata": {},
   "source": [
    "### _1. Investigate gender differences in SAT scores._"
   ]
  },
  {
   "cell_type": "code",
   "execution_count": 43,
   "metadata": {},
   "outputs": [
    {
     "data": {
      "image/png": "[encoded data removed]",
      "text/plain": [
       "<Figure size 720x576 with 1 Axes>"
      ]
     },
     "metadata": {
      "needs_background": "light"
     },
     "output_type": "display_data"
    }
   ],
   "source": [
    "# Bar plot of the correlations between the columns above and sat_score.\n",
    "combined.corr()[\"sat_score\"][[\"male_per\", \"female_per\"]].plot.bar(figsize=(10,8), fontsize=13)\n",
    "plt.title(\"Gender vs Sat_score\", fontsize=28, fontweight='bold', fontname='Times New Roman')\n",
    "plt.xlabel('gender', fontsize=15, fontweight='bold')\n",
    "plt.ylabel('sat_score', fontsize=15, fontweight='bold')\n",
    "plt.xticks(rotation=0)\n",
    "plt.show()"
   ]
  },
  {
   "cell_type": "markdown",
   "metadata": {},
   "source": [
    "## _Key observations_:\n",
    "\n",
    "- There is a __significant difference__ in the __average SAT scores__ between the genders.\n",
    "\n",
    "<br>\n",
    "\n",
    "- This difference is __attributable to the difference in average gender percentages__ between the schools.\n",
    "\n",
    "<br>\n",
    "\n",
    "- __Female_per__ correlates with __higher SAT scores__, while __male_per__ correlates with __lower SAT scores__.\n",
    "\n",
    "<br>\n",
    "\n",
    "- This means that __gender differences__ are __not due to a higher percentage of males__ at a school.\n",
    "\n",
    "<br>\n",
    "\n",
    "- This could indicate that __more females__ are choosing __more selective schools__.\n",
    "\n",
    "<br>\n",
    "\n",
    "- This could also indicate that the __gender differences__ are __not due to an inverse correlation between gender percentage and SAT scores__.\n",
    "\n",
    "<br>\n",
    "\n",
    "- This could indicate that __gender differences__ are __due to other factors__, such as the __quality of the school__ itself."
   ]
  },
  {
   "cell_type": "markdown",
   "metadata": {},
   "source": [
    "# <u>Explore AP Scores vs SAT Scores. </u>"
   ]
  },
  {
   "cell_type": "markdown",
   "metadata": {},
   "source": [
    "It makes sense that the number of students at a school who took __AP exams__ would be highly correlated with the school's __SAT scores__. Let's explore this relationship. \n",
    "\n",
    "<br>\n",
    "\n",
    "Because __total_enrollment__ is highly correlated with __sat_score__, we don't want to lead to bias results. Instead, we'll look at the percentage of students in each school who took at least one AP exam."
   ]
  },
  {
   "cell_type": "code",
   "execution_count": 44,
   "metadata": {},
   "outputs": [],
   "source": [
    "# Calculate the percentage of students in each school that took an AP exam.\n",
    "combined['ap_per'] = combined['AP Test Takers '] / combined['total_enrollment']"
   ]
  },
  {
   "cell_type": "markdown",
   "metadata": {},
   "source": [
    "### _1. Investigate the relationship between AP scores and SAT scores._"
   ]
  },
  {
   "cell_type": "code",
   "execution_count": 45,
   "metadata": {},
   "outputs": [
    {
     "data": {
      "image/png": "[encoded data removed]",
      "text/plain": [
       "<Figure size 720x576 with 1 Axes>"
      ]
     },
     "metadata": {
      "needs_background": "light"
     },
     "output_type": "display_data"
    }
   ],
   "source": [
    "# Investigate the relationship between AP scores and SAT scores.\n",
    "combined.plot.scatter(x='ap_per', y='sat_score', fontsize=14, figsize=(10,8))\n",
    "plt.xlabel('ap_per', fontsize=16, fontweight='bold')\n",
    "plt.ylabel('sat_score', fontsize=16, fontweight='bold')\n",
    "plt.title(\"Ap_per vs Sat_score\", fontsize=28, fontweight='bold', fontname='Times New Roman')\n",
    "plt.show()"
   ]
  },
  {
   "cell_type": "markdown",
   "metadata": {},
   "source": [
    "## _Key observations_:\n",
    "- This plot shows that __ap_per__ and __sat_score__ have a __positive correlation__.\n",
    "\n",
    "<br>\n",
    "\n",
    "- This indicates that __students who take AP exams__ are __more likely to have higher SAT scores__.\n",
    "\n",
    "<br>\n",
    "\n",
    "- This could indicate that __AP classes__ are __more likely to be of higher quality__, or that __students who take AP exams__ are __more likely to be __more prepared__ for college.\n",
    "\n",
    "<br>\n",
    "\n",
    "- This could also indicate that __students who take AP exams__ are __more likely to be __more academically inclined__.\n",
    "\n",
    "<br>\n",
    "\n",
    "- This could also indicate that __high schools__ with __more AP classes__ have a __higher average SAT score__.\n",
    "\n",
    "<br>\n"
   ]
  },
  {
   "cell_type": "markdown",
   "metadata": {},
   "source": [
    "# <u>Explore class_size vs SAT Scores. </u>"
   ]
  },
  {
   "cell_type": "code",
   "execution_count": 46,
   "metadata": {},
   "outputs": [
    {
     "data": {
      "image/png": "[encoded data removed]",
      "text/plain": [
       "<Figure size 720x576 with 1 Axes>"
      ]
     },
     "metadata": {
      "needs_background": "light"
     },
     "output_type": "display_data"
    }
   ],
   "source": [
    "# Investigate the relationship between class size and SAT scores.\n",
    "combined.plot.scatter(x='AVERAGE CLASS SIZE', y='sat_score', fontsize=14, figsize=(10,8))\n",
    "plt.xlabel('average class size', fontsize=16, fontweight='bold')\n",
    "plt.ylabel('sat_score', fontsize=16, fontweight='bold')\n",
    "plt.title(\"Average Class Size vs Sat_score\", fontsize=28, fontweight='bold', fontname='Times New Roman')\n",
    "plt.show()"
   ]
  },
  {
   "cell_type": "markdown",
   "metadata": {},
   "source": [
    "## _Key observations:_\n",
    "\n",
    "- This plot shows that __class size__ and __sat_score__ have a __negative correlation__.\n",
    "\n",
    "<br>\n",
    "\n",
    "\n",
    "- This could indicate that __smaller class sizes__ are __more likely to be of higher quality__, or that __students who take AP exams__ are __more likely__ to be __more prepared__ for college.\n",
    "\n",
    "<br>\n",
    "\n",
    "\n",
    "- This could also indicate that __smaller class sizes__ are __more of a priority__ for students, which would mean that the __quality of the school__ is __more important__ to them than the number of students.\n",
    "\n",
    "<br>\n"
   ]
  },
  {
   "cell_type": "markdown",
   "metadata": {},
   "source": [
    "# <u> Neighborhoods That Have The Best Schools. </u>"
   ]
  },
  {
   "cell_type": "markdown",
   "metadata": {},
   "source": [
    "### _1. Schools with Highest Sat Scores._"
   ]
  },
  {
   "cell_type": "code",
   "execution_count": 63,
   "metadata": {},
   "outputs": [
    {
     "name": "stdout",
     "output_type": "stream",
     "text": [
      "                                           SCHOOL NAME  sat_score\n",
      "37                              STUYVESANT HIGH SCHOOL     2096.0\n",
      "151                       BRONX HIGH SCHOOL OF SCIENCE     1969.0\n",
      "356                STATEN ISLAND TECHNICAL HIGH SCHOOL     1953.0\n",
      "155  HIGH SCHOOL OF AMERICAN STUDIES AT LEHMAN COLLEGE     1920.0\n",
      "302                        TOWNSEND HARRIS HIGH SCHOOL     1910.0\n",
      "327  QUEENS HIGH SCHOOL FOR THE SCIENCES AT YORK CO...     1868.0\n",
      "5                       BARD HIGH SCHOOL EARLY COLLEGE     1856.0\n",
      "79   HIGH SCHOOL FOR MATHEMATICS, SCIENCE AND ENGIN...     1847.0\n",
      "187                     BROOKLYN TECHNICAL HIGH SCHOOL     1833.0\n",
      "26                       ELEANOR ROOSEVELT HIGH SCHOOL     1758.0\n"
     ]
    }
   ],
   "source": [
    "# schools with the highest number of sat scores\n",
    "print(combined.sort_values(by='sat_score', ascending=False)[['SCHOOL NAME','sat_score']].head(10))"
   ]
  },
  {
   "cell_type": "markdown",
   "metadata": {},
   "source": [
    "### _2. Neighborhoods of the Schools with Highest Sat Scores._"
   ]
  },
  {
   "cell_type": "code",
   "execution_count": 64,
   "metadata": {},
   "outputs": [
    {
     "name": "stdout",
     "output_type": "stream",
     "text": [
      "                                            Location 1  sat_score\n",
      "37   345 Chambers Street\\nNew York, NY 10282\\n(40.7...     2096.0\n",
      "151  75 West 205 Street\\nBronx, NY 10468\\n(40.87705...     1969.0\n",
      "356  485 Clawson Street\\nStaten Island, NY 10306\\n(...     1953.0\n",
      "155  2925 Goulden Avenue\\nBronx, NY 10468\\n(40.8712...     1920.0\n",
      "302  149-11 Melbourne Avenue\\nFlushing, NY 11367\\n(...     1910.0\n",
      "327  94-50 159 Street\\nJamaica, NY 11433\\n(40.70099...     1868.0\n",
      "5    525 East Houston Street\\nNew York, NY 10002\\n(...     1856.0\n",
      "79   240 Convent Ave\\nNew York, NY 10031\\n(40.82112...     1847.0\n",
      "187  29 Ft Greene Place\\nBrooklyn, NY 11217\\n(40.68...     1833.0\n",
      "26   411 East 76 Street\\nNew York, NY 10021\\n(40.77...     1758.0\n"
     ]
    }
   ],
   "source": [
    "# which neighborhoods have the best schools\n",
    "print(combined.sort_values(by='sat_score', ascending=False)[['Location 1','sat_score']].head(10))\n"
   ]
  },
  {
   "cell_type": "markdown",
   "metadata": {},
   "source": [
    "## _Key observations:_\n",
    "\n",
    "<br>\n",
    "\n",
    "- The __neighborhoods__ that have the highest __Sat scores__ are __upper class neighborhoods__.\n",
    "\n",
    "<br>\n",
    "\n",
    "- This could indicate that __upper class neighborhoods__ are more __academic__, and have __better schools__.\n",
    "\n",
    "<br>\n",
    "\n",
    "- Looks ike most are in __Newyork__\n",
    "\n",
    "<br>\n"
   ]
  },
  {
   "cell_type": "markdown",
   "metadata": {},
   "source": [
    "# <U><h1><center> END </center></h1></U>"
   ]
  }
 ],
 "metadata": {
  "kernelspec": {
   "display_name": "Python 3 (ipykernel)",
   "language": "python",
   "name": "python3"
  },
  "language_info": {
   "codemirror_mode": {
    "name": "ipython",
    "version": 3
   },
   "file_extension": ".py",
   "mimetype": "text/x-python",
   "name": "python",
   "nbconvert_exporter": "python",
   "pygments_lexer": "ipython3",
   "version": "3.7.11"
  }
 },
 "nbformat": 4,
 "nbformat_minor": 2
}
